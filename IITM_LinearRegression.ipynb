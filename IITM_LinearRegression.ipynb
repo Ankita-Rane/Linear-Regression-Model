{
  "cells": [
    {
      "cell_type": "markdown",
      "metadata": {
        "id": "view-in-github",
        "colab_type": "text"
      },
      "source": [
        "<a href=\"https://colab.research.google.com/github/Ankita-Rane/Linear-Regression-Model/blob/main/IITM_LinearRegression.ipynb\" target=\"_parent\"><img src=\"https://colab.research.google.com/assets/colab-badge.svg\" alt=\"Open In Colab\"/></a>"
      ]
    },
    {
      "cell_type": "code",
      "execution_count": null,
      "id": "dd075af6",
      "metadata": {
        "id": "dd075af6"
      },
      "outputs": [],
      "source": [
        "import pandas as pd\n",
        "import numpy as np\n",
        "import matplotlib.pyplot as plt"
      ]
    },
    {
      "cell_type": "code",
      "execution_count": null,
      "id": "2f035261",
      "metadata": {
        "id": "2f035261",
        "outputId": "af242e7f-cc9f-4452-fd14-d4947f441a3a",
        "colab": {
          "base_uri": "https://localhost:8080/",
          "height": 206
        }
      },
      "outputs": [
        {
          "output_type": "execute_result",
          "data": {
            "text/plain": [
              "   YearsExperience   Salary\n",
              "0              1.1  39343.0\n",
              "1              1.3  46205.0\n",
              "2              1.5  37731.0\n",
              "3              2.0  43525.0\n",
              "4              2.2  39891.0"
            ],
            "text/html": [
              "\n",
              "  <div id=\"df-0d40e64e-3303-450d-bfb3-6fc97eb2dbd5\">\n",
              "    <div class=\"colab-df-container\">\n",
              "      <div>\n",
              "<style scoped>\n",
              "    .dataframe tbody tr th:only-of-type {\n",
              "        vertical-align: middle;\n",
              "    }\n",
              "\n",
              "    .dataframe tbody tr th {\n",
              "        vertical-align: top;\n",
              "    }\n",
              "\n",
              "    .dataframe thead th {\n",
              "        text-align: right;\n",
              "    }\n",
              "</style>\n",
              "<table border=\"1\" class=\"dataframe\">\n",
              "  <thead>\n",
              "    <tr style=\"text-align: right;\">\n",
              "      <th></th>\n",
              "      <th>YearsExperience</th>\n",
              "      <th>Salary</th>\n",
              "    </tr>\n",
              "  </thead>\n",
              "  <tbody>\n",
              "    <tr>\n",
              "      <th>0</th>\n",
              "      <td>1.1</td>\n",
              "      <td>39343.0</td>\n",
              "    </tr>\n",
              "    <tr>\n",
              "      <th>1</th>\n",
              "      <td>1.3</td>\n",
              "      <td>46205.0</td>\n",
              "    </tr>\n",
              "    <tr>\n",
              "      <th>2</th>\n",
              "      <td>1.5</td>\n",
              "      <td>37731.0</td>\n",
              "    </tr>\n",
              "    <tr>\n",
              "      <th>3</th>\n",
              "      <td>2.0</td>\n",
              "      <td>43525.0</td>\n",
              "    </tr>\n",
              "    <tr>\n",
              "      <th>4</th>\n",
              "      <td>2.2</td>\n",
              "      <td>39891.0</td>\n",
              "    </tr>\n",
              "  </tbody>\n",
              "</table>\n",
              "</div>\n",
              "      <button class=\"colab-df-convert\" onclick=\"convertToInteractive('df-0d40e64e-3303-450d-bfb3-6fc97eb2dbd5')\"\n",
              "              title=\"Convert this dataframe to an interactive table.\"\n",
              "              style=\"display:none;\">\n",
              "        \n",
              "  <svg xmlns=\"http://www.w3.org/2000/svg\" height=\"24px\"viewBox=\"0 0 24 24\"\n",
              "       width=\"24px\">\n",
              "    <path d=\"M0 0h24v24H0V0z\" fill=\"none\"/>\n",
              "    <path d=\"M18.56 5.44l.94 2.06.94-2.06 2.06-.94-2.06-.94-.94-2.06-.94 2.06-2.06.94zm-11 1L8.5 8.5l.94-2.06 2.06-.94-2.06-.94L8.5 2.5l-.94 2.06-2.06.94zm10 10l.94 2.06.94-2.06 2.06-.94-2.06-.94-.94-2.06-.94 2.06-2.06.94z\"/><path d=\"M17.41 7.96l-1.37-1.37c-.4-.4-.92-.59-1.43-.59-.52 0-1.04.2-1.43.59L10.3 9.45l-7.72 7.72c-.78.78-.78 2.05 0 2.83L4 21.41c.39.39.9.59 1.41.59.51 0 1.02-.2 1.41-.59l7.78-7.78 2.81-2.81c.8-.78.8-2.07 0-2.86zM5.41 20L4 18.59l7.72-7.72 1.47 1.35L5.41 20z\"/>\n",
              "  </svg>\n",
              "      </button>\n",
              "      \n",
              "  <style>\n",
              "    .colab-df-container {\n",
              "      display:flex;\n",
              "      flex-wrap:wrap;\n",
              "      gap: 12px;\n",
              "    }\n",
              "\n",
              "    .colab-df-convert {\n",
              "      background-color: #E8F0FE;\n",
              "      border: none;\n",
              "      border-radius: 50%;\n",
              "      cursor: pointer;\n",
              "      display: none;\n",
              "      fill: #1967D2;\n",
              "      height: 32px;\n",
              "      padding: 0 0 0 0;\n",
              "      width: 32px;\n",
              "    }\n",
              "\n",
              "    .colab-df-convert:hover {\n",
              "      background-color: #E2EBFA;\n",
              "      box-shadow: 0px 1px 2px rgba(60, 64, 67, 0.3), 0px 1px 3px 1px rgba(60, 64, 67, 0.15);\n",
              "      fill: #174EA6;\n",
              "    }\n",
              "\n",
              "    [theme=dark] .colab-df-convert {\n",
              "      background-color: #3B4455;\n",
              "      fill: #D2E3FC;\n",
              "    }\n",
              "\n",
              "    [theme=dark] .colab-df-convert:hover {\n",
              "      background-color: #434B5C;\n",
              "      box-shadow: 0px 1px 3px 1px rgba(0, 0, 0, 0.15);\n",
              "      filter: drop-shadow(0px 1px 2px rgba(0, 0, 0, 0.3));\n",
              "      fill: #FFFFFF;\n",
              "    }\n",
              "  </style>\n",
              "\n",
              "      <script>\n",
              "        const buttonEl =\n",
              "          document.querySelector('#df-0d40e64e-3303-450d-bfb3-6fc97eb2dbd5 button.colab-df-convert');\n",
              "        buttonEl.style.display =\n",
              "          google.colab.kernel.accessAllowed ? 'block' : 'none';\n",
              "\n",
              "        async function convertToInteractive(key) {\n",
              "          const element = document.querySelector('#df-0d40e64e-3303-450d-bfb3-6fc97eb2dbd5');\n",
              "          const dataTable =\n",
              "            await google.colab.kernel.invokeFunction('convertToInteractive',\n",
              "                                                     [key], {});\n",
              "          if (!dataTable) return;\n",
              "\n",
              "          const docLinkHtml = 'Like what you see? Visit the ' +\n",
              "            '<a target=\"_blank\" href=https://colab.research.google.com/notebooks/data_table.ipynb>data table notebook</a>'\n",
              "            + ' to learn more about interactive tables.';\n",
              "          element.innerHTML = '';\n",
              "          dataTable['output_type'] = 'display_data';\n",
              "          await google.colab.output.renderOutput(dataTable, element);\n",
              "          const docLink = document.createElement('div');\n",
              "          docLink.innerHTML = docLinkHtml;\n",
              "          element.appendChild(docLink);\n",
              "        }\n",
              "      </script>\n",
              "    </div>\n",
              "  </div>\n",
              "  "
            ]
          },
          "metadata": {},
          "execution_count": 6
        }
      ],
      "source": [
        "data = pd.read_csv('/data.csv')\n",
        "data.head()"
      ]
    },
    {
      "cell_type": "code",
      "source": [
        "data.describe()"
      ],
      "metadata": {
        "colab": {
          "base_uri": "https://localhost:8080/",
          "height": 300
        },
        "id": "-jgxic-VDfFs",
        "outputId": "8c822f77-8021-4999-b3b1-b254b3f84cc9"
      },
      "id": "-jgxic-VDfFs",
      "execution_count": null,
      "outputs": [
        {
          "output_type": "execute_result",
          "data": {
            "text/plain": [
              "       YearsExperience         Salary\n",
              "count        30.000000      30.000000\n",
              "mean          5.313333   76003.000000\n",
              "std           2.837888   27414.429785\n",
              "min           1.100000   37731.000000\n",
              "25%           3.200000   56720.750000\n",
              "50%           4.700000   65237.000000\n",
              "75%           7.700000  100544.750000\n",
              "max          10.500000  122391.000000"
            ],
            "text/html": [
              "\n",
              "  <div id=\"df-db61a671-d845-49b9-8bd1-6212f6585189\">\n",
              "    <div class=\"colab-df-container\">\n",
              "      <div>\n",
              "<style scoped>\n",
              "    .dataframe tbody tr th:only-of-type {\n",
              "        vertical-align: middle;\n",
              "    }\n",
              "\n",
              "    .dataframe tbody tr th {\n",
              "        vertical-align: top;\n",
              "    }\n",
              "\n",
              "    .dataframe thead th {\n",
              "        text-align: right;\n",
              "    }\n",
              "</style>\n",
              "<table border=\"1\" class=\"dataframe\">\n",
              "  <thead>\n",
              "    <tr style=\"text-align: right;\">\n",
              "      <th></th>\n",
              "      <th>YearsExperience</th>\n",
              "      <th>Salary</th>\n",
              "    </tr>\n",
              "  </thead>\n",
              "  <tbody>\n",
              "    <tr>\n",
              "      <th>count</th>\n",
              "      <td>30.000000</td>\n",
              "      <td>30.000000</td>\n",
              "    </tr>\n",
              "    <tr>\n",
              "      <th>mean</th>\n",
              "      <td>5.313333</td>\n",
              "      <td>76003.000000</td>\n",
              "    </tr>\n",
              "    <tr>\n",
              "      <th>std</th>\n",
              "      <td>2.837888</td>\n",
              "      <td>27414.429785</td>\n",
              "    </tr>\n",
              "    <tr>\n",
              "      <th>min</th>\n",
              "      <td>1.100000</td>\n",
              "      <td>37731.000000</td>\n",
              "    </tr>\n",
              "    <tr>\n",
              "      <th>25%</th>\n",
              "      <td>3.200000</td>\n",
              "      <td>56720.750000</td>\n",
              "    </tr>\n",
              "    <tr>\n",
              "      <th>50%</th>\n",
              "      <td>4.700000</td>\n",
              "      <td>65237.000000</td>\n",
              "    </tr>\n",
              "    <tr>\n",
              "      <th>75%</th>\n",
              "      <td>7.700000</td>\n",
              "      <td>100544.750000</td>\n",
              "    </tr>\n",
              "    <tr>\n",
              "      <th>max</th>\n",
              "      <td>10.500000</td>\n",
              "      <td>122391.000000</td>\n",
              "    </tr>\n",
              "  </tbody>\n",
              "</table>\n",
              "</div>\n",
              "      <button class=\"colab-df-convert\" onclick=\"convertToInteractive('df-db61a671-d845-49b9-8bd1-6212f6585189')\"\n",
              "              title=\"Convert this dataframe to an interactive table.\"\n",
              "              style=\"display:none;\">\n",
              "        \n",
              "  <svg xmlns=\"http://www.w3.org/2000/svg\" height=\"24px\"viewBox=\"0 0 24 24\"\n",
              "       width=\"24px\">\n",
              "    <path d=\"M0 0h24v24H0V0z\" fill=\"none\"/>\n",
              "    <path d=\"M18.56 5.44l.94 2.06.94-2.06 2.06-.94-2.06-.94-.94-2.06-.94 2.06-2.06.94zm-11 1L8.5 8.5l.94-2.06 2.06-.94-2.06-.94L8.5 2.5l-.94 2.06-2.06.94zm10 10l.94 2.06.94-2.06 2.06-.94-2.06-.94-.94-2.06-.94 2.06-2.06.94z\"/><path d=\"M17.41 7.96l-1.37-1.37c-.4-.4-.92-.59-1.43-.59-.52 0-1.04.2-1.43.59L10.3 9.45l-7.72 7.72c-.78.78-.78 2.05 0 2.83L4 21.41c.39.39.9.59 1.41.59.51 0 1.02-.2 1.41-.59l7.78-7.78 2.81-2.81c.8-.78.8-2.07 0-2.86zM5.41 20L4 18.59l7.72-7.72 1.47 1.35L5.41 20z\"/>\n",
              "  </svg>\n",
              "      </button>\n",
              "      \n",
              "  <style>\n",
              "    .colab-df-container {\n",
              "      display:flex;\n",
              "      flex-wrap:wrap;\n",
              "      gap: 12px;\n",
              "    }\n",
              "\n",
              "    .colab-df-convert {\n",
              "      background-color: #E8F0FE;\n",
              "      border: none;\n",
              "      border-radius: 50%;\n",
              "      cursor: pointer;\n",
              "      display: none;\n",
              "      fill: #1967D2;\n",
              "      height: 32px;\n",
              "      padding: 0 0 0 0;\n",
              "      width: 32px;\n",
              "    }\n",
              "\n",
              "    .colab-df-convert:hover {\n",
              "      background-color: #E2EBFA;\n",
              "      box-shadow: 0px 1px 2px rgba(60, 64, 67, 0.3), 0px 1px 3px 1px rgba(60, 64, 67, 0.15);\n",
              "      fill: #174EA6;\n",
              "    }\n",
              "\n",
              "    [theme=dark] .colab-df-convert {\n",
              "      background-color: #3B4455;\n",
              "      fill: #D2E3FC;\n",
              "    }\n",
              "\n",
              "    [theme=dark] .colab-df-convert:hover {\n",
              "      background-color: #434B5C;\n",
              "      box-shadow: 0px 1px 3px 1px rgba(0, 0, 0, 0.15);\n",
              "      filter: drop-shadow(0px 1px 2px rgba(0, 0, 0, 0.3));\n",
              "      fill: #FFFFFF;\n",
              "    }\n",
              "  </style>\n",
              "\n",
              "      <script>\n",
              "        const buttonEl =\n",
              "          document.querySelector('#df-db61a671-d845-49b9-8bd1-6212f6585189 button.colab-df-convert');\n",
              "        buttonEl.style.display =\n",
              "          google.colab.kernel.accessAllowed ? 'block' : 'none';\n",
              "\n",
              "        async function convertToInteractive(key) {\n",
              "          const element = document.querySelector('#df-db61a671-d845-49b9-8bd1-6212f6585189');\n",
              "          const dataTable =\n",
              "            await google.colab.kernel.invokeFunction('convertToInteractive',\n",
              "                                                     [key], {});\n",
              "          if (!dataTable) return;\n",
              "\n",
              "          const docLinkHtml = 'Like what you see? Visit the ' +\n",
              "            '<a target=\"_blank\" href=https://colab.research.google.com/notebooks/data_table.ipynb>data table notebook</a>'\n",
              "            + ' to learn more about interactive tables.';\n",
              "          element.innerHTML = '';\n",
              "          dataTable['output_type'] = 'display_data';\n",
              "          await google.colab.output.renderOutput(dataTable, element);\n",
              "          const docLink = document.createElement('div');\n",
              "          docLink.innerHTML = docLinkHtml;\n",
              "          element.appendChild(docLink);\n",
              "        }\n",
              "      </script>\n",
              "    </div>\n",
              "  </div>\n",
              "  "
            ]
          },
          "metadata": {},
          "execution_count": 7
        }
      ]
    },
    {
      "cell_type": "code",
      "source": [
        "housing = pd.read_csv('/housing.csv')\n",
        "housing.head()"
      ],
      "metadata": {
        "colab": {
          "base_uri": "https://localhost:8080/",
          "height": 300
        },
        "id": "rJrMBYBdvPYE",
        "outputId": "c8afaee2-7c1b-44f3-899a-a421210911ad"
      },
      "id": "rJrMBYBdvPYE",
      "execution_count": null,
      "outputs": [
        {
          "output_type": "execute_result",
          "data": {
            "text/plain": [
              "           id             date   price  bedrooms  bathrooms  sqft_living  \\\n",
              "0  7129300520  20141013T000000  221900         3       1.00         1180   \n",
              "1  6414100192  20141209T000000  538000         3       2.25         2570   \n",
              "2  5631500400  20150225T000000  180000         2       1.00          770   \n",
              "3  2487200875  20141209T000000  604000         4       3.00         1960   \n",
              "4  1954400510  20150218T000000  510000         3       2.00         1680   \n",
              "\n",
              "   sqft_lot  floors  waterfront  view  ...  grade  sqft_above  sqft_basement  \\\n",
              "0      5650     1.0           0     0  ...      7        1180              0   \n",
              "1      7242     2.0           0     0  ...      7        2170            400   \n",
              "2     10000     1.0           0     0  ...      6         770              0   \n",
              "3      5000     1.0           0     0  ...      7        1050            910   \n",
              "4      8080     1.0           0     0  ...      8        1680              0   \n",
              "\n",
              "   yr_built  yr_renovated  zipcode      lat     long  sqft_living15  \\\n",
              "0      1955             0    98178  47.5112 -122.257           1340   \n",
              "1      1951          1991    98125  47.7210 -122.319           1690   \n",
              "2      1933             0    98028  47.7379 -122.233           2720   \n",
              "3      1965             0    98136  47.5208 -122.393           1360   \n",
              "4      1987             0    98074  47.6168 -122.045           1800   \n",
              "\n",
              "   sqft_lot15  \n",
              "0        5650  \n",
              "1        7639  \n",
              "2        8062  \n",
              "3        5000  \n",
              "4        7503  \n",
              "\n",
              "[5 rows x 21 columns]"
            ],
            "text/html": [
              "\n",
              "  <div id=\"df-3860b879-d850-406d-83b9-8a2b7a1a20c1\">\n",
              "    <div class=\"colab-df-container\">\n",
              "      <div>\n",
              "<style scoped>\n",
              "    .dataframe tbody tr th:only-of-type {\n",
              "        vertical-align: middle;\n",
              "    }\n",
              "\n",
              "    .dataframe tbody tr th {\n",
              "        vertical-align: top;\n",
              "    }\n",
              "\n",
              "    .dataframe thead th {\n",
              "        text-align: right;\n",
              "    }\n",
              "</style>\n",
              "<table border=\"1\" class=\"dataframe\">\n",
              "  <thead>\n",
              "    <tr style=\"text-align: right;\">\n",
              "      <th></th>\n",
              "      <th>id</th>\n",
              "      <th>date</th>\n",
              "      <th>price</th>\n",
              "      <th>bedrooms</th>\n",
              "      <th>bathrooms</th>\n",
              "      <th>sqft_living</th>\n",
              "      <th>sqft_lot</th>\n",
              "      <th>floors</th>\n",
              "      <th>waterfront</th>\n",
              "      <th>view</th>\n",
              "      <th>...</th>\n",
              "      <th>grade</th>\n",
              "      <th>sqft_above</th>\n",
              "      <th>sqft_basement</th>\n",
              "      <th>yr_built</th>\n",
              "      <th>yr_renovated</th>\n",
              "      <th>zipcode</th>\n",
              "      <th>lat</th>\n",
              "      <th>long</th>\n",
              "      <th>sqft_living15</th>\n",
              "      <th>sqft_lot15</th>\n",
              "    </tr>\n",
              "  </thead>\n",
              "  <tbody>\n",
              "    <tr>\n",
              "      <th>0</th>\n",
              "      <td>7129300520</td>\n",
              "      <td>20141013T000000</td>\n",
              "      <td>221900</td>\n",
              "      <td>3</td>\n",
              "      <td>1.00</td>\n",
              "      <td>1180</td>\n",
              "      <td>5650</td>\n",
              "      <td>1.0</td>\n",
              "      <td>0</td>\n",
              "      <td>0</td>\n",
              "      <td>...</td>\n",
              "      <td>7</td>\n",
              "      <td>1180</td>\n",
              "      <td>0</td>\n",
              "      <td>1955</td>\n",
              "      <td>0</td>\n",
              "      <td>98178</td>\n",
              "      <td>47.5112</td>\n",
              "      <td>-122.257</td>\n",
              "      <td>1340</td>\n",
              "      <td>5650</td>\n",
              "    </tr>\n",
              "    <tr>\n",
              "      <th>1</th>\n",
              "      <td>6414100192</td>\n",
              "      <td>20141209T000000</td>\n",
              "      <td>538000</td>\n",
              "      <td>3</td>\n",
              "      <td>2.25</td>\n",
              "      <td>2570</td>\n",
              "      <td>7242</td>\n",
              "      <td>2.0</td>\n",
              "      <td>0</td>\n",
              "      <td>0</td>\n",
              "      <td>...</td>\n",
              "      <td>7</td>\n",
              "      <td>2170</td>\n",
              "      <td>400</td>\n",
              "      <td>1951</td>\n",
              "      <td>1991</td>\n",
              "      <td>98125</td>\n",
              "      <td>47.7210</td>\n",
              "      <td>-122.319</td>\n",
              "      <td>1690</td>\n",
              "      <td>7639</td>\n",
              "    </tr>\n",
              "    <tr>\n",
              "      <th>2</th>\n",
              "      <td>5631500400</td>\n",
              "      <td>20150225T000000</td>\n",
              "      <td>180000</td>\n",
              "      <td>2</td>\n",
              "      <td>1.00</td>\n",
              "      <td>770</td>\n",
              "      <td>10000</td>\n",
              "      <td>1.0</td>\n",
              "      <td>0</td>\n",
              "      <td>0</td>\n",
              "      <td>...</td>\n",
              "      <td>6</td>\n",
              "      <td>770</td>\n",
              "      <td>0</td>\n",
              "      <td>1933</td>\n",
              "      <td>0</td>\n",
              "      <td>98028</td>\n",
              "      <td>47.7379</td>\n",
              "      <td>-122.233</td>\n",
              "      <td>2720</td>\n",
              "      <td>8062</td>\n",
              "    </tr>\n",
              "    <tr>\n",
              "      <th>3</th>\n",
              "      <td>2487200875</td>\n",
              "      <td>20141209T000000</td>\n",
              "      <td>604000</td>\n",
              "      <td>4</td>\n",
              "      <td>3.00</td>\n",
              "      <td>1960</td>\n",
              "      <td>5000</td>\n",
              "      <td>1.0</td>\n",
              "      <td>0</td>\n",
              "      <td>0</td>\n",
              "      <td>...</td>\n",
              "      <td>7</td>\n",
              "      <td>1050</td>\n",
              "      <td>910</td>\n",
              "      <td>1965</td>\n",
              "      <td>0</td>\n",
              "      <td>98136</td>\n",
              "      <td>47.5208</td>\n",
              "      <td>-122.393</td>\n",
              "      <td>1360</td>\n",
              "      <td>5000</td>\n",
              "    </tr>\n",
              "    <tr>\n",
              "      <th>4</th>\n",
              "      <td>1954400510</td>\n",
              "      <td>20150218T000000</td>\n",
              "      <td>510000</td>\n",
              "      <td>3</td>\n",
              "      <td>2.00</td>\n",
              "      <td>1680</td>\n",
              "      <td>8080</td>\n",
              "      <td>1.0</td>\n",
              "      <td>0</td>\n",
              "      <td>0</td>\n",
              "      <td>...</td>\n",
              "      <td>8</td>\n",
              "      <td>1680</td>\n",
              "      <td>0</td>\n",
              "      <td>1987</td>\n",
              "      <td>0</td>\n",
              "      <td>98074</td>\n",
              "      <td>47.6168</td>\n",
              "      <td>-122.045</td>\n",
              "      <td>1800</td>\n",
              "      <td>7503</td>\n",
              "    </tr>\n",
              "  </tbody>\n",
              "</table>\n",
              "<p>5 rows × 21 columns</p>\n",
              "</div>\n",
              "      <button class=\"colab-df-convert\" onclick=\"convertToInteractive('df-3860b879-d850-406d-83b9-8a2b7a1a20c1')\"\n",
              "              title=\"Convert this dataframe to an interactive table.\"\n",
              "              style=\"display:none;\">\n",
              "        \n",
              "  <svg xmlns=\"http://www.w3.org/2000/svg\" height=\"24px\"viewBox=\"0 0 24 24\"\n",
              "       width=\"24px\">\n",
              "    <path d=\"M0 0h24v24H0V0z\" fill=\"none\"/>\n",
              "    <path d=\"M18.56 5.44l.94 2.06.94-2.06 2.06-.94-2.06-.94-.94-2.06-.94 2.06-2.06.94zm-11 1L8.5 8.5l.94-2.06 2.06-.94-2.06-.94L8.5 2.5l-.94 2.06-2.06.94zm10 10l.94 2.06.94-2.06 2.06-.94-2.06-.94-.94-2.06-.94 2.06-2.06.94z\"/><path d=\"M17.41 7.96l-1.37-1.37c-.4-.4-.92-.59-1.43-.59-.52 0-1.04.2-1.43.59L10.3 9.45l-7.72 7.72c-.78.78-.78 2.05 0 2.83L4 21.41c.39.39.9.59 1.41.59.51 0 1.02-.2 1.41-.59l7.78-7.78 2.81-2.81c.8-.78.8-2.07 0-2.86zM5.41 20L4 18.59l7.72-7.72 1.47 1.35L5.41 20z\"/>\n",
              "  </svg>\n",
              "      </button>\n",
              "      \n",
              "  <style>\n",
              "    .colab-df-container {\n",
              "      display:flex;\n",
              "      flex-wrap:wrap;\n",
              "      gap: 12px;\n",
              "    }\n",
              "\n",
              "    .colab-df-convert {\n",
              "      background-color: #E8F0FE;\n",
              "      border: none;\n",
              "      border-radius: 50%;\n",
              "      cursor: pointer;\n",
              "      display: none;\n",
              "      fill: #1967D2;\n",
              "      height: 32px;\n",
              "      padding: 0 0 0 0;\n",
              "      width: 32px;\n",
              "    }\n",
              "\n",
              "    .colab-df-convert:hover {\n",
              "      background-color: #E2EBFA;\n",
              "      box-shadow: 0px 1px 2px rgba(60, 64, 67, 0.3), 0px 1px 3px 1px rgba(60, 64, 67, 0.15);\n",
              "      fill: #174EA6;\n",
              "    }\n",
              "\n",
              "    [theme=dark] .colab-df-convert {\n",
              "      background-color: #3B4455;\n",
              "      fill: #D2E3FC;\n",
              "    }\n",
              "\n",
              "    [theme=dark] .colab-df-convert:hover {\n",
              "      background-color: #434B5C;\n",
              "      box-shadow: 0px 1px 3px 1px rgba(0, 0, 0, 0.15);\n",
              "      filter: drop-shadow(0px 1px 2px rgba(0, 0, 0, 0.3));\n",
              "      fill: #FFFFFF;\n",
              "    }\n",
              "  </style>\n",
              "\n",
              "      <script>\n",
              "        const buttonEl =\n",
              "          document.querySelector('#df-3860b879-d850-406d-83b9-8a2b7a1a20c1 button.colab-df-convert');\n",
              "        buttonEl.style.display =\n",
              "          google.colab.kernel.accessAllowed ? 'block' : 'none';\n",
              "\n",
              "        async function convertToInteractive(key) {\n",
              "          const element = document.querySelector('#df-3860b879-d850-406d-83b9-8a2b7a1a20c1');\n",
              "          const dataTable =\n",
              "            await google.colab.kernel.invokeFunction('convertToInteractive',\n",
              "                                                     [key], {});\n",
              "          if (!dataTable) return;\n",
              "\n",
              "          const docLinkHtml = 'Like what you see? Visit the ' +\n",
              "            '<a target=\"_blank\" href=https://colab.research.google.com/notebooks/data_table.ipynb>data table notebook</a>'\n",
              "            + ' to learn more about interactive tables.';\n",
              "          element.innerHTML = '';\n",
              "          dataTable['output_type'] = 'display_data';\n",
              "          await google.colab.output.renderOutput(dataTable, element);\n",
              "          const docLink = document.createElement('div');\n",
              "          docLink.innerHTML = docLinkHtml;\n",
              "          element.appendChild(docLink);\n",
              "        }\n",
              "      </script>\n",
              "    </div>\n",
              "  </div>\n",
              "  "
            ]
          },
          "metadata": {},
          "execution_count": 93
        }
      ]
    },
    {
      "cell_type": "code",
      "source": [
        "housing.describe()"
      ],
      "metadata": {
        "colab": {
          "base_uri": "https://localhost:8080/",
          "height": 364
        },
        "id": "YPIiFjyPDizH",
        "outputId": "1b341aee-18c4-4f51-a321-7e9c1d839470"
      },
      "id": "YPIiFjyPDizH",
      "execution_count": null,
      "outputs": [
        {
          "output_type": "execute_result",
          "data": {
            "text/plain": [
              "                 id         price      bedrooms     bathrooms   sqft_living  \\\n",
              "count  2.161300e+04  2.161300e+04  21613.000000  21613.000000  21613.000000   \n",
              "mean   4.580302e+09  5.400881e+05      3.370842      2.114757   2079.899736   \n",
              "std    2.876566e+09  3.671272e+05      0.930062      0.770163    918.440897   \n",
              "min    1.000102e+06  7.500000e+04      0.000000      0.000000    290.000000   \n",
              "25%    2.123049e+09  3.219500e+05      3.000000      1.750000   1427.000000   \n",
              "50%    3.904930e+09  4.500000e+05      3.000000      2.250000   1910.000000   \n",
              "75%    7.308900e+09  6.450000e+05      4.000000      2.500000   2550.000000   \n",
              "max    9.900000e+09  7.700000e+06     33.000000      8.000000  13540.000000   \n",
              "\n",
              "           sqft_lot        floors    waterfront          view     condition  \\\n",
              "count  2.161300e+04  21613.000000  21613.000000  21613.000000  21613.000000   \n",
              "mean   1.510697e+04      1.494309      0.007542      0.234303      3.409430   \n",
              "std    4.142051e+04      0.539989      0.086517      0.766318      0.650743   \n",
              "min    5.200000e+02      1.000000      0.000000      0.000000      1.000000   \n",
              "25%    5.040000e+03      1.000000      0.000000      0.000000      3.000000   \n",
              "50%    7.618000e+03      1.500000      0.000000      0.000000      3.000000   \n",
              "75%    1.068800e+04      2.000000      0.000000      0.000000      4.000000   \n",
              "max    1.651359e+06      3.500000      1.000000      4.000000      5.000000   \n",
              "\n",
              "              grade    sqft_above  sqft_basement      yr_built  yr_renovated  \\\n",
              "count  21613.000000  21613.000000   21613.000000  21613.000000  21613.000000   \n",
              "mean       7.656873   1788.390691     291.509045   1971.005136     84.402258   \n",
              "std        1.175459    828.090978     442.575043     29.373411    401.679240   \n",
              "min        1.000000    290.000000       0.000000   1900.000000      0.000000   \n",
              "25%        7.000000   1190.000000       0.000000   1951.000000      0.000000   \n",
              "50%        7.000000   1560.000000       0.000000   1975.000000      0.000000   \n",
              "75%        8.000000   2210.000000     560.000000   1997.000000      0.000000   \n",
              "max       13.000000   9410.000000    4820.000000   2015.000000   2015.000000   \n",
              "\n",
              "            zipcode           lat          long  sqft_living15     sqft_lot15  \n",
              "count  21613.000000  21613.000000  21613.000000   21613.000000   21613.000000  \n",
              "mean   98077.939805     47.560053   -122.213896    1986.552492   12768.455652  \n",
              "std       53.505026      0.138564      0.140828     685.391304   27304.179631  \n",
              "min    98001.000000     47.155900   -122.519000     399.000000     651.000000  \n",
              "25%    98033.000000     47.471000   -122.328000    1490.000000    5100.000000  \n",
              "50%    98065.000000     47.571800   -122.230000    1840.000000    7620.000000  \n",
              "75%    98118.000000     47.678000   -122.125000    2360.000000   10083.000000  \n",
              "max    98199.000000     47.777600   -121.315000    6210.000000  871200.000000  "
            ],
            "text/html": [
              "\n",
              "  <div id=\"df-3cc3a10a-0497-487d-9d98-fca9bc0363dc\">\n",
              "    <div class=\"colab-df-container\">\n",
              "      <div>\n",
              "<style scoped>\n",
              "    .dataframe tbody tr th:only-of-type {\n",
              "        vertical-align: middle;\n",
              "    }\n",
              "\n",
              "    .dataframe tbody tr th {\n",
              "        vertical-align: top;\n",
              "    }\n",
              "\n",
              "    .dataframe thead th {\n",
              "        text-align: right;\n",
              "    }\n",
              "</style>\n",
              "<table border=\"1\" class=\"dataframe\">\n",
              "  <thead>\n",
              "    <tr style=\"text-align: right;\">\n",
              "      <th></th>\n",
              "      <th>id</th>\n",
              "      <th>price</th>\n",
              "      <th>bedrooms</th>\n",
              "      <th>bathrooms</th>\n",
              "      <th>sqft_living</th>\n",
              "      <th>sqft_lot</th>\n",
              "      <th>floors</th>\n",
              "      <th>waterfront</th>\n",
              "      <th>view</th>\n",
              "      <th>condition</th>\n",
              "      <th>grade</th>\n",
              "      <th>sqft_above</th>\n",
              "      <th>sqft_basement</th>\n",
              "      <th>yr_built</th>\n",
              "      <th>yr_renovated</th>\n",
              "      <th>zipcode</th>\n",
              "      <th>lat</th>\n",
              "      <th>long</th>\n",
              "      <th>sqft_living15</th>\n",
              "      <th>sqft_lot15</th>\n",
              "    </tr>\n",
              "  </thead>\n",
              "  <tbody>\n",
              "    <tr>\n",
              "      <th>count</th>\n",
              "      <td>2.161300e+04</td>\n",
              "      <td>2.161300e+04</td>\n",
              "      <td>21613.000000</td>\n",
              "      <td>21613.000000</td>\n",
              "      <td>21613.000000</td>\n",
              "      <td>2.161300e+04</td>\n",
              "      <td>21613.000000</td>\n",
              "      <td>21613.000000</td>\n",
              "      <td>21613.000000</td>\n",
              "      <td>21613.000000</td>\n",
              "      <td>21613.000000</td>\n",
              "      <td>21613.000000</td>\n",
              "      <td>21613.000000</td>\n",
              "      <td>21613.000000</td>\n",
              "      <td>21613.000000</td>\n",
              "      <td>21613.000000</td>\n",
              "      <td>21613.000000</td>\n",
              "      <td>21613.000000</td>\n",
              "      <td>21613.000000</td>\n",
              "      <td>21613.000000</td>\n",
              "    </tr>\n",
              "    <tr>\n",
              "      <th>mean</th>\n",
              "      <td>4.580302e+09</td>\n",
              "      <td>5.400881e+05</td>\n",
              "      <td>3.370842</td>\n",
              "      <td>2.114757</td>\n",
              "      <td>2079.899736</td>\n",
              "      <td>1.510697e+04</td>\n",
              "      <td>1.494309</td>\n",
              "      <td>0.007542</td>\n",
              "      <td>0.234303</td>\n",
              "      <td>3.409430</td>\n",
              "      <td>7.656873</td>\n",
              "      <td>1788.390691</td>\n",
              "      <td>291.509045</td>\n",
              "      <td>1971.005136</td>\n",
              "      <td>84.402258</td>\n",
              "      <td>98077.939805</td>\n",
              "      <td>47.560053</td>\n",
              "      <td>-122.213896</td>\n",
              "      <td>1986.552492</td>\n",
              "      <td>12768.455652</td>\n",
              "    </tr>\n",
              "    <tr>\n",
              "      <th>std</th>\n",
              "      <td>2.876566e+09</td>\n",
              "      <td>3.671272e+05</td>\n",
              "      <td>0.930062</td>\n",
              "      <td>0.770163</td>\n",
              "      <td>918.440897</td>\n",
              "      <td>4.142051e+04</td>\n",
              "      <td>0.539989</td>\n",
              "      <td>0.086517</td>\n",
              "      <td>0.766318</td>\n",
              "      <td>0.650743</td>\n",
              "      <td>1.175459</td>\n",
              "      <td>828.090978</td>\n",
              "      <td>442.575043</td>\n",
              "      <td>29.373411</td>\n",
              "      <td>401.679240</td>\n",
              "      <td>53.505026</td>\n",
              "      <td>0.138564</td>\n",
              "      <td>0.140828</td>\n",
              "      <td>685.391304</td>\n",
              "      <td>27304.179631</td>\n",
              "    </tr>\n",
              "    <tr>\n",
              "      <th>min</th>\n",
              "      <td>1.000102e+06</td>\n",
              "      <td>7.500000e+04</td>\n",
              "      <td>0.000000</td>\n",
              "      <td>0.000000</td>\n",
              "      <td>290.000000</td>\n",
              "      <td>5.200000e+02</td>\n",
              "      <td>1.000000</td>\n",
              "      <td>0.000000</td>\n",
              "      <td>0.000000</td>\n",
              "      <td>1.000000</td>\n",
              "      <td>1.000000</td>\n",
              "      <td>290.000000</td>\n",
              "      <td>0.000000</td>\n",
              "      <td>1900.000000</td>\n",
              "      <td>0.000000</td>\n",
              "      <td>98001.000000</td>\n",
              "      <td>47.155900</td>\n",
              "      <td>-122.519000</td>\n",
              "      <td>399.000000</td>\n",
              "      <td>651.000000</td>\n",
              "    </tr>\n",
              "    <tr>\n",
              "      <th>25%</th>\n",
              "      <td>2.123049e+09</td>\n",
              "      <td>3.219500e+05</td>\n",
              "      <td>3.000000</td>\n",
              "      <td>1.750000</td>\n",
              "      <td>1427.000000</td>\n",
              "      <td>5.040000e+03</td>\n",
              "      <td>1.000000</td>\n",
              "      <td>0.000000</td>\n",
              "      <td>0.000000</td>\n",
              "      <td>3.000000</td>\n",
              "      <td>7.000000</td>\n",
              "      <td>1190.000000</td>\n",
              "      <td>0.000000</td>\n",
              "      <td>1951.000000</td>\n",
              "      <td>0.000000</td>\n",
              "      <td>98033.000000</td>\n",
              "      <td>47.471000</td>\n",
              "      <td>-122.328000</td>\n",
              "      <td>1490.000000</td>\n",
              "      <td>5100.000000</td>\n",
              "    </tr>\n",
              "    <tr>\n",
              "      <th>50%</th>\n",
              "      <td>3.904930e+09</td>\n",
              "      <td>4.500000e+05</td>\n",
              "      <td>3.000000</td>\n",
              "      <td>2.250000</td>\n",
              "      <td>1910.000000</td>\n",
              "      <td>7.618000e+03</td>\n",
              "      <td>1.500000</td>\n",
              "      <td>0.000000</td>\n",
              "      <td>0.000000</td>\n",
              "      <td>3.000000</td>\n",
              "      <td>7.000000</td>\n",
              "      <td>1560.000000</td>\n",
              "      <td>0.000000</td>\n",
              "      <td>1975.000000</td>\n",
              "      <td>0.000000</td>\n",
              "      <td>98065.000000</td>\n",
              "      <td>47.571800</td>\n",
              "      <td>-122.230000</td>\n",
              "      <td>1840.000000</td>\n",
              "      <td>7620.000000</td>\n",
              "    </tr>\n",
              "    <tr>\n",
              "      <th>75%</th>\n",
              "      <td>7.308900e+09</td>\n",
              "      <td>6.450000e+05</td>\n",
              "      <td>4.000000</td>\n",
              "      <td>2.500000</td>\n",
              "      <td>2550.000000</td>\n",
              "      <td>1.068800e+04</td>\n",
              "      <td>2.000000</td>\n",
              "      <td>0.000000</td>\n",
              "      <td>0.000000</td>\n",
              "      <td>4.000000</td>\n",
              "      <td>8.000000</td>\n",
              "      <td>2210.000000</td>\n",
              "      <td>560.000000</td>\n",
              "      <td>1997.000000</td>\n",
              "      <td>0.000000</td>\n",
              "      <td>98118.000000</td>\n",
              "      <td>47.678000</td>\n",
              "      <td>-122.125000</td>\n",
              "      <td>2360.000000</td>\n",
              "      <td>10083.000000</td>\n",
              "    </tr>\n",
              "    <tr>\n",
              "      <th>max</th>\n",
              "      <td>9.900000e+09</td>\n",
              "      <td>7.700000e+06</td>\n",
              "      <td>33.000000</td>\n",
              "      <td>8.000000</td>\n",
              "      <td>13540.000000</td>\n",
              "      <td>1.651359e+06</td>\n",
              "      <td>3.500000</td>\n",
              "      <td>1.000000</td>\n",
              "      <td>4.000000</td>\n",
              "      <td>5.000000</td>\n",
              "      <td>13.000000</td>\n",
              "      <td>9410.000000</td>\n",
              "      <td>4820.000000</td>\n",
              "      <td>2015.000000</td>\n",
              "      <td>2015.000000</td>\n",
              "      <td>98199.000000</td>\n",
              "      <td>47.777600</td>\n",
              "      <td>-121.315000</td>\n",
              "      <td>6210.000000</td>\n",
              "      <td>871200.000000</td>\n",
              "    </tr>\n",
              "  </tbody>\n",
              "</table>\n",
              "</div>\n",
              "      <button class=\"colab-df-convert\" onclick=\"convertToInteractive('df-3cc3a10a-0497-487d-9d98-fca9bc0363dc')\"\n",
              "              title=\"Convert this dataframe to an interactive table.\"\n",
              "              style=\"display:none;\">\n",
              "        \n",
              "  <svg xmlns=\"http://www.w3.org/2000/svg\" height=\"24px\"viewBox=\"0 0 24 24\"\n",
              "       width=\"24px\">\n",
              "    <path d=\"M0 0h24v24H0V0z\" fill=\"none\"/>\n",
              "    <path d=\"M18.56 5.44l.94 2.06.94-2.06 2.06-.94-2.06-.94-.94-2.06-.94 2.06-2.06.94zm-11 1L8.5 8.5l.94-2.06 2.06-.94-2.06-.94L8.5 2.5l-.94 2.06-2.06.94zm10 10l.94 2.06.94-2.06 2.06-.94-2.06-.94-.94-2.06-.94 2.06-2.06.94z\"/><path d=\"M17.41 7.96l-1.37-1.37c-.4-.4-.92-.59-1.43-.59-.52 0-1.04.2-1.43.59L10.3 9.45l-7.72 7.72c-.78.78-.78 2.05 0 2.83L4 21.41c.39.39.9.59 1.41.59.51 0 1.02-.2 1.41-.59l7.78-7.78 2.81-2.81c.8-.78.8-2.07 0-2.86zM5.41 20L4 18.59l7.72-7.72 1.47 1.35L5.41 20z\"/>\n",
              "  </svg>\n",
              "      </button>\n",
              "      \n",
              "  <style>\n",
              "    .colab-df-container {\n",
              "      display:flex;\n",
              "      flex-wrap:wrap;\n",
              "      gap: 12px;\n",
              "    }\n",
              "\n",
              "    .colab-df-convert {\n",
              "      background-color: #E8F0FE;\n",
              "      border: none;\n",
              "      border-radius: 50%;\n",
              "      cursor: pointer;\n",
              "      display: none;\n",
              "      fill: #1967D2;\n",
              "      height: 32px;\n",
              "      padding: 0 0 0 0;\n",
              "      width: 32px;\n",
              "    }\n",
              "\n",
              "    .colab-df-convert:hover {\n",
              "      background-color: #E2EBFA;\n",
              "      box-shadow: 0px 1px 2px rgba(60, 64, 67, 0.3), 0px 1px 3px 1px rgba(60, 64, 67, 0.15);\n",
              "      fill: #174EA6;\n",
              "    }\n",
              "\n",
              "    [theme=dark] .colab-df-convert {\n",
              "      background-color: #3B4455;\n",
              "      fill: #D2E3FC;\n",
              "    }\n",
              "\n",
              "    [theme=dark] .colab-df-convert:hover {\n",
              "      background-color: #434B5C;\n",
              "      box-shadow: 0px 1px 3px 1px rgba(0, 0, 0, 0.15);\n",
              "      filter: drop-shadow(0px 1px 2px rgba(0, 0, 0, 0.3));\n",
              "      fill: #FFFFFF;\n",
              "    }\n",
              "  </style>\n",
              "\n",
              "      <script>\n",
              "        const buttonEl =\n",
              "          document.querySelector('#df-3cc3a10a-0497-487d-9d98-fca9bc0363dc button.colab-df-convert');\n",
              "        buttonEl.style.display =\n",
              "          google.colab.kernel.accessAllowed ? 'block' : 'none';\n",
              "\n",
              "        async function convertToInteractive(key) {\n",
              "          const element = document.querySelector('#df-3cc3a10a-0497-487d-9d98-fca9bc0363dc');\n",
              "          const dataTable =\n",
              "            await google.colab.kernel.invokeFunction('convertToInteractive',\n",
              "                                                     [key], {});\n",
              "          if (!dataTable) return;\n",
              "\n",
              "          const docLinkHtml = 'Like what you see? Visit the ' +\n",
              "            '<a target=\"_blank\" href=https://colab.research.google.com/notebooks/data_table.ipynb>data table notebook</a>'\n",
              "            + ' to learn more about interactive tables.';\n",
              "          element.innerHTML = '';\n",
              "          dataTable['output_type'] = 'display_data';\n",
              "          await google.colab.output.renderOutput(dataTable, element);\n",
              "          const docLink = document.createElement('div');\n",
              "          docLink.innerHTML = docLinkHtml;\n",
              "          element.appendChild(docLink);\n",
              "        }\n",
              "      </script>\n",
              "    </div>\n",
              "  </div>\n",
              "  "
            ]
          },
          "metadata": {},
          "execution_count": 9
        }
      ]
    },
    {
      "cell_type": "markdown",
      "source": [
        "##EDA - data"
      ],
      "metadata": {
        "id": "GBu_FAHRvxP5"
      },
      "id": "GBu_FAHRvxP5"
    },
    {
      "cell_type": "code",
      "source": [
        "data.isnull().sum()"
      ],
      "metadata": {
        "colab": {
          "base_uri": "https://localhost:8080/"
        },
        "id": "GWoPQkAUaBxe",
        "outputId": "9b5804b3-f950-411e-84d5-a7b4b0673f29"
      },
      "id": "GWoPQkAUaBxe",
      "execution_count": null,
      "outputs": [
        {
          "output_type": "execute_result",
          "data": {
            "text/plain": [
              "YearsExperience    0\n",
              "Salary             0\n",
              "dtype: int64"
            ]
          },
          "metadata": {},
          "execution_count": 79
        }
      ]
    },
    {
      "cell_type": "code",
      "source": [
        "#simple bar plot\n",
        "plt.bar(data['YearsExperience'], data['Salary'])\n",
        "plt.xlabel('Years of Experience')\n",
        "plt.ylabel('Salary')\n",
        "plt.title(\"Years of Experience vs Salary\")\n",
        "plt.legend()"
      ],
      "metadata": {
        "colab": {
          "base_uri": "https://localhost:8080/",
          "height": 330
        },
        "id": "AEVMNr6EwCFP",
        "outputId": "0f9a9dbb-0486-4b4a-c7b4-498a16f5b419"
      },
      "id": "AEVMNr6EwCFP",
      "execution_count": null,
      "outputs": [
        {
          "output_type": "stream",
          "name": "stderr",
          "text": [
            "WARNING:matplotlib.legend:No handles with labels found to put in legend.\n"
          ]
        },
        {
          "output_type": "execute_result",
          "data": {
            "text/plain": [
              "<matplotlib.legend.Legend at 0x7f8587adaa90>"
            ]
          },
          "metadata": {},
          "execution_count": 10
        },
        {
          "output_type": "display_data",
          "data": {
            "text/plain": [
              "<Figure size 432x288 with 1 Axes>"
            ],
            "image/png": "[encoded data removed]"
          },
          "metadata": {
            "needs_background": "light"
          }
        }
      ]
    },
    {
      "cell_type": "code",
      "source": [
        "\n",
        "#simple hist plot\n",
        "plt.hist(data['Salary'])\n",
        "plt.xlabel('Salary')\n",
        "plt.ylabel('Sum')\n",
        "plt.title(\"Simple hist Plot\")\n",
        "plt.legend()\n"
      ],
      "metadata": {
        "colab": {
          "base_uri": "https://localhost:8080/",
          "height": 330
        },
        "id": "EKH5iOn_wGx4",
        "outputId": "b552f29c-4579-42e2-b561-8ccb24fd9523"
      },
      "id": "EKH5iOn_wGx4",
      "execution_count": null,
      "outputs": [
        {
          "output_type": "stream",
          "name": "stderr",
          "text": [
            "WARNING:matplotlib.legend:No handles with labels found to put in legend.\n"
          ]
        },
        {
          "output_type": "execute_result",
          "data": {
            "text/plain": [
              "<matplotlib.legend.Legend at 0x7f85879e1a50>"
            ]
          },
          "metadata": {},
          "execution_count": 11
        },
        {
          "output_type": "display_data",
          "data": {
            "text/plain": [
              "<Figure size 432x288 with 1 Axes>"
            ],
            "image/png": "[encoded data removed]"
          },
          "metadata": {
            "needs_background": "light"
          }
        }
      ]
    },
    {
      "cell_type": "code",
      "source": [
        "#simple line plot\n",
        "plt.plot(data['YearsExperience'], data['Salary'])\n",
        "plt.xlabel('Years of Experience')\n",
        "plt.ylabel('Salary')\n",
        "plt.title(\"Years of Experience vs Salary\")\n",
        "plt.legend()\n"
      ],
      "metadata": {
        "colab": {
          "base_uri": "https://localhost:8080/",
          "height": 330
        },
        "id": "EtzGkaXMwS42",
        "outputId": "a21e2c78-c795-45ab-ba87-a5bb18b10b03"
      },
      "id": "EtzGkaXMwS42",
      "execution_count": null,
      "outputs": [
        {
          "output_type": "stream",
          "name": "stderr",
          "text": [
            "WARNING:matplotlib.legend:No handles with labels found to put in legend.\n"
          ]
        },
        {
          "output_type": "execute_result",
          "data": {
            "text/plain": [
              "<matplotlib.legend.Legend at 0x7f85874b22d0>"
            ]
          },
          "metadata": {},
          "execution_count": 12
        },
        {
          "output_type": "display_data",
          "data": {
            "text/plain": [
              "<Figure size 432x288 with 1 Axes>"
            ],
            "image/png": "[encoded data removed]"
          },
          "metadata": {
            "needs_background": "light"
          }
        }
      ]
    },
    {
      "cell_type": "markdown",
      "source": [
        "##EDA - Housing"
      ],
      "metadata": {
        "id": "ZYuW1C8FvztF"
      },
      "id": "ZYuW1C8FvztF"
    },
    {
      "cell_type": "code",
      "source": [
        "housing.isnull().sum()"
      ],
      "metadata": {
        "colab": {
          "base_uri": "https://localhost:8080/"
        },
        "id": "SkZXajA8atcW",
        "outputId": "6762dab2-66e8-4f52-a283-55d42a616667"
      },
      "id": "SkZXajA8atcW",
      "execution_count": null,
      "outputs": [
        {
          "output_type": "execute_result",
          "data": {
            "text/plain": [
              "id               0\n",
              "date             0\n",
              "price            0\n",
              "bedrooms         0\n",
              "bathrooms        0\n",
              "sqft_living      0\n",
              "sqft_lot         0\n",
              "floors           0\n",
              "waterfront       0\n",
              "view             0\n",
              "condition        0\n",
              "grade            0\n",
              "sqft_above       0\n",
              "sqft_basement    0\n",
              "yr_built         0\n",
              "yr_renovated     0\n",
              "zipcode          0\n",
              "lat              0\n",
              "long             0\n",
              "sqft_living15    0\n",
              "sqft_lot15       0\n",
              "dtype: int64"
            ]
          },
          "metadata": {},
          "execution_count": 80
        }
      ]
    },
    {
      "cell_type": "code",
      "source": [
        "#simple scatter plot\n",
        "plt.scatter(housing['price'],housing['zipcode'])\n",
        "plt.xlabel('Prices in the area')\n",
        "plt.ylabel('zipcode')\n",
        "plt.title(\"Prices zipcode wise\")\n",
        "plt.legend()\n"
      ],
      "metadata": {
        "colab": {
          "base_uri": "https://localhost:8080/",
          "height": 330
        },
        "id": "HtnFwu1MyCCJ",
        "outputId": "bb4ff927-044a-4db8-cc5b-f9a1f5f8f6dc"
      },
      "id": "HtnFwu1MyCCJ",
      "execution_count": null,
      "outputs": [
        {
          "output_type": "stream",
          "name": "stderr",
          "text": [
            "WARNING:matplotlib.legend:No handles with labels found to put in legend.\n"
          ]
        },
        {
          "output_type": "execute_result",
          "data": {
            "text/plain": [
              "<matplotlib.legend.Legend at 0x7f8587445750>"
            ]
          },
          "metadata": {},
          "execution_count": 13
        },
        {
          "output_type": "display_data",
          "data": {
            "text/plain": [
              "<Figure size 432x288 with 1 Axes>"
            ],
            "image/png": "[encoded data removed]"
          },
          "metadata": {
            "needs_background": "light"
          }
        }
      ]
    },
    {
      "cell_type": "code",
      "source": [
        "\n",
        "#simple subplot\n",
        "figure, axis = plt.subplots(2, 2)\n",
        "axis[0,0].hist(housing['price'],density=True, facecolor='g', alpha=0.75) \n",
        "axis[0,0].set_title(\"price\")\n",
        "\n",
        "axis[0,1].bar(housing['price'],housing['bedrooms'],width=0.5,facecolor='y')\n",
        "axis[0,1].set_title(\"Price vs bedrooms\")\n",
        "\n",
        "axis[0,0].hist(housing['grade'],density=True, facecolor='g', alpha=0.75) \n",
        "axis[0,0].set_title(\"price\")\n",
        "\n",
        "axis[1,1].pie(housing['price'],labels=housing['zipcode'])\n",
        "axis[1,1].set_title(\"price vs zipcode\")\n",
        "figure.show()"
      ],
      "metadata": {
        "colab": {
          "base_uri": "https://localhost:8080/",
          "height": 288
        },
        "id": "ZrSyEOpeyFuy",
        "outputId": "d7c1582b-4cbc-482b-9419-8160b415e211"
      },
      "id": "ZrSyEOpeyFuy",
      "execution_count": null,
      "outputs": [
        {
          "output_type": "display_data",
          "data": {
            "text/plain": [
              "<Figure size 432x288 with 4 Axes>"
            ],
            "image/png": "[encoded data removed]"
          },
          "metadata": {}
        }
      ]
    },
    {
      "cell_type": "markdown",
      "source": [
        "##data.csv questions"
      ],
      "metadata": {
        "id": "zYjGHxhUxQ9r"
      },
      "id": "zYjGHxhUxQ9r"
    },
    {
      "cell_type": "markdown",
      "source": [
        "1. How many employees having more than 5 years experience are earning more than 60000?\n",
        "a. 41\n",
        "b. 12\n",
        "c. 21\n",
        "d. 14\n",
        "\n",
        "Ans:14"
      ],
      "metadata": {
        "id": "bU13Fur1xWYD"
      },
      "id": "bU13Fur1xWYD"
    },
    {
      "cell_type": "code",
      "source": [
        "filter1=data['YearsExperience']>5\n",
        "filter2=data['Salary']>60000"
      ],
      "metadata": {
        "id": "quK6uK92xt5m"
      },
      "id": "quK6uK92xt5m",
      "execution_count": null,
      "outputs": []
    },
    {
      "cell_type": "code",
      "source": [
        "data.where(filter1&filter2).dropna().count()"
      ],
      "metadata": {
        "colab": {
          "base_uri": "https://localhost:8080/"
        },
        "id": "A1r0Fp0HzhTx",
        "outputId": "b98a6521-ba0a-40ef-95b0-1cfaccc789b9"
      },
      "id": "A1r0Fp0HzhTx",
      "execution_count": null,
      "outputs": [
        {
          "output_type": "execute_result",
          "data": {
            "text/plain": [
              "YearsExperience    14\n",
              "Salary             14\n",
              "dtype: int64"
            ]
          },
          "metadata": {},
          "execution_count": 16
        }
      ]
    },
    {
      "cell_type": "markdown",
      "source": [
        "2. How many employees are earning between 50000-80000?\n",
        "a. 14\n",
        "b. 12\n",
        "c. 10\n",
        "d. 13\n",
        "\n",
        "Ans: 12"
      ],
      "metadata": {
        "id": "yZ7mMLL50GY5"
      },
      "id": "yZ7mMLL50GY5"
    },
    {
      "cell_type": "code",
      "source": [
        "emp_ct=data['Salary'].between(50000,80000,inclusive = True)\n",
        "data[emp_ct].count()"
      ],
      "metadata": {
        "colab": {
          "base_uri": "https://localhost:8080/"
        },
        "id": "m-mKUzHF0I-p",
        "outputId": "39fd119f-0ec9-4c06-e18f-ec2cd7e27a4f"
      },
      "id": "m-mKUzHF0I-p",
      "execution_count": null,
      "outputs": [
        {
          "output_type": "stream",
          "name": "stderr",
          "text": [
            "/usr/local/lib/python3.7/dist-packages/ipykernel_launcher.py:1: FutureWarning: Boolean inputs to the `inclusive` argument are deprecated infavour of `both` or `neither`.\n",
            "  \"\"\"Entry point for launching an IPython kernel.\n"
          ]
        },
        {
          "output_type": "execute_result",
          "data": {
            "text/plain": [
              "YearsExperience    12\n",
              "Salary             12\n",
              "dtype: int64"
            ]
          },
          "metadata": {},
          "execution_count": 17
        }
      ]
    },
    {
      "cell_type": "markdown",
      "source": [
        "3. The scatter plot in the following image shows the relationship between the\n",
        "“YearsExperience” and “Salary” columns. What possible inferences can be drawn from the plot?\n",
        "a. The plot shows a positive correlation between the ‘YearsExperience” and “Salary”\n",
        "column.\n",
        "b. The plot shows no significant relationship between the “YearExperience” and\n",
        "“Salary” column.\n",
        "c. The plot shows a negative correlation between the “YearsExperience” and\n",
        "“Salary” column.\n",
        "d. None of the above\n",
        "\n",
        "Ans : a. The plot shows a positive correlation between the ‘YearsExperience” and “Salary”"
      ],
      "metadata": {
        "id": "NoGxVIht1NVf"
      },
      "id": "NoGxVIht1NVf"
    },
    {
      "cell_type": "code",
      "source": [
        "#simple scatter plot\n",
        "plt.scatter(data['YearsExperience'],data['Salary'])\n",
        "plt.xlabel('YearsExperience')\n",
        "plt.ylabel('Salary')\n",
        "plt.title(\"YearsExperience vs Salary\")\n",
        "plt.legend()"
      ],
      "metadata": {
        "colab": {
          "base_uri": "https://localhost:8080/",
          "height": 330
        },
        "id": "HkTMVU_J1M2c",
        "outputId": "dfb4f390-8725-46c8-b5d1-b6fe6e395c3b"
      },
      "id": "HkTMVU_J1M2c",
      "execution_count": null,
      "outputs": [
        {
          "output_type": "stream",
          "name": "stderr",
          "text": [
            "WARNING:matplotlib.legend:No handles with labels found to put in legend.\n"
          ]
        },
        {
          "output_type": "execute_result",
          "data": {
            "text/plain": [
              "<matplotlib.legend.Legend at 0x7f8578fd4c90>"
            ]
          },
          "metadata": {},
          "execution_count": 18
        },
        {
          "output_type": "display_data",
          "data": {
            "text/plain": [
              "<Figure size 432x288 with 1 Axes>"
            ],
            "image/png": "[encoded data removed]"
          },
          "metadata": {
            "needs_background": "light"
          }
        }
      ]
    },
    {
      "cell_type": "markdown",
      "source": [
        "4. The distribution plot of the column “YearsExperience” is shown in the image below,\n",
        "what possible inferences can be drawn from the plot.\n",
        "a. “YearsExperience” data is normally distributed.\n",
        "b. “YearsExperience” data is positively skewed.\n",
        "c. “YearsExperience” data is negatively skewed.\n",
        "d. None of the above.\n",
        "\n",
        "Ans : b"
      ],
      "metadata": {
        "id": "9Rdik9jq2Bp9"
      },
      "id": "9Rdik9jq2Bp9"
    },
    {
      "cell_type": "code",
      "source": [
        "import seaborn as sns\n",
        "sns.set(style=\"darkgrid\", font_scale=1.2)"
      ],
      "metadata": {
        "id": "vaVCmQv32A_Q"
      },
      "id": "vaVCmQv32A_Q",
      "execution_count": null,
      "outputs": []
    },
    {
      "cell_type": "code",
      "source": [
        "sns.histplot(data['YearsExperience'], discrete = True, kde = True,bins=10)\n",
        "data['YearsExperience'].describe()"
      ],
      "metadata": {
        "colab": {
          "base_uri": "https://localhost:8080/",
          "height": 445
        },
        "id": "zgT__kWV3SuR",
        "outputId": "f1ed009d-5792-4c16-a0e5-55845209e4a3"
      },
      "id": "zgT__kWV3SuR",
      "execution_count": null,
      "outputs": [
        {
          "output_type": "execute_result",
          "data": {
            "text/plain": [
              "count    30.000000\n",
              "mean      5.313333\n",
              "std       2.837888\n",
              "min       1.100000\n",
              "25%       3.200000\n",
              "50%       4.700000\n",
              "75%       7.700000\n",
              "max      10.500000\n",
              "Name: YearsExperience, dtype: float64"
            ]
          },
          "metadata": {},
          "execution_count": 20
        },
        {
          "output_type": "display_data",
          "data": {
            "text/plain": [
              "<Figure size 432x288 with 1 Axes>"
            ],
            "image/png": "[encoded data removed]"
          },
          "metadata": {}
        }
      ]
    },
    {
      "cell_type": "markdown",
      "source": [
        "5. What all inferences can be drawn from the table shown below:\n",
        "a. The range of the “YearsExperience” and “Salary” data is (9.4 , 84660 )\n",
        "b. The range of the “YearsExperience” and “Salary” data is (4.7 , 65237 )\n",
        "c. The range of the “YearsExperience” and “Salary” data is (10.5, 122391)\n",
        "d. The range of the “YearsExperience” and “Salary” data is (7.7 ,100544)\n",
        "\n",
        "Ans : a"
      ],
      "metadata": {
        "id": "oM15bi828q3i"
      },
      "id": "oM15bi828q3i"
    },
    {
      "cell_type": "code",
      "source": [
        "data.describe()\n",
        "data.max()-data.min()"
      ],
      "metadata": {
        "colab": {
          "base_uri": "https://localhost:8080/"
        },
        "id": "PO2bTsR33Srh",
        "outputId": "802a5877-df34-4a54-fb46-4526b303fa0b"
      },
      "id": "PO2bTsR33Srh",
      "execution_count": null,
      "outputs": [
        {
          "output_type": "execute_result",
          "data": {
            "text/plain": [
              "YearsExperience        9.4\n",
              "Salary             84660.0\n",
              "dtype: float64"
            ]
          },
          "metadata": {},
          "execution_count": 21
        }
      ]
    },
    {
      "cell_type": "markdown",
      "source": [
        "6. To split the dataset into training and testing data, if we use the following\n",
        "code. X = data['YearsExperience']\n",
        "y = data['Salary']\n",
        "X_train, X_test, y_train, y_test = train_test_split(X, y, test_size=0.2,random_state=0) What does it mean when we write the test size as 0.2?\n",
        "\n",
        "a. The testing data will be 2% accurate.\n",
        "b. The testing data will have 80% samples from the total population.\n",
        "c. The testing data will have 2% samples from the total population.\n",
        "d. The training data will consist of 80% of the samples from the total population\n",
        "\n",
        "Ans: d"
      ],
      "metadata": {
        "id": "YbkS9D2I9wbe"
      },
      "id": "YbkS9D2I9wbe"
    },
    {
      "cell_type": "code",
      "execution_count": null,
      "id": "0936882f",
      "metadata": {
        "id": "0936882f"
      },
      "outputs": [],
      "source": [
        "X = data['YearsExperience'].values.reshape(-1,1)\n",
        "Y = data['Salary'].values.reshape(-1,1)"
      ]
    },
    {
      "cell_type": "code",
      "execution_count": null,
      "id": "fc348153",
      "metadata": {
        "id": "fc348153"
      },
      "outputs": [],
      "source": [
        "from sklearn.model_selection import train_test_split\n",
        "from sklearn.linear_model import LinearRegression"
      ]
    },
    {
      "cell_type": "code",
      "execution_count": null,
      "id": "7a1897d2",
      "metadata": {
        "id": "7a1897d2"
      },
      "outputs": [],
      "source": [
        "Xtrain, Xtest, ytrain, ytest = train_test_split(X,Y, test_size=0.8, random_state=0)"
      ]
    },
    {
      "cell_type": "code",
      "execution_count": null,
      "id": "3c963cf6",
      "metadata": {
        "id": "3c963cf6"
      },
      "outputs": [],
      "source": [
        "linearmodel = LinearRegression()"
      ]
    },
    {
      "cell_type": "code",
      "execution_count": null,
      "id": "b67a67b0",
      "metadata": {
        "id": "b67a67b0",
        "outputId": "99faf72c-1b6d-48b1-973f-68ca7b5b3678",
        "colab": {
          "base_uri": "https://localhost:8080/"
        }
      },
      "outputs": [
        {
          "output_type": "execute_result",
          "data": {
            "text/plain": [
              "LinearRegression()"
            ]
          },
          "metadata": {},
          "execution_count": 26
        }
      ],
      "source": [
        "linearmodel.fit(Xtrain, ytrain)"
      ]
    },
    {
      "cell_type": "code",
      "execution_count": null,
      "id": "1a1656b4",
      "metadata": {
        "id": "1a1656b4",
        "outputId": "0486884e-00c8-4e51-f6fc-02569971664c",
        "colab": {
          "base_uri": "https://localhost:8080/"
        }
      },
      "outputs": [
        {
          "output_type": "execute_result",
          "data": {
            "text/plain": [
              "array([[ 39526.80778769],\n",
              "       [119904.97264685],\n",
              "       [ 63274.90195062],\n",
              "       [ 61448.12547655],\n",
              "       [112597.86675056],\n",
              "       [105290.76085428],\n",
              "       [113511.2549876 ],\n",
              "       [ 62361.51371359],\n",
              "       [ 74235.56079505],\n",
              "       [ 97983.65495799],\n",
              "       [ 52314.24310619],\n",
              "       [ 72408.78432098],\n",
              "       [ 55054.4078173 ],\n",
              "       [ 66928.45489877],\n",
              "       [100723.8196691 ],\n",
              "       [ 87936.38435059],\n",
              "       [ 37700.03131362],\n",
              "       [121731.74912092],\n",
              "       [ 53227.63134323],\n",
              "       [ 45920.52544694],\n",
              "       [ 79715.89021727],\n",
              "       [ 80629.27845431],\n",
              "       [ 59621.34900248],\n",
              "       [ 55054.4078173 ]])"
            ]
          },
          "metadata": {},
          "execution_count": 27
        }
      ],
      "source": [
        "ypredict = linearmodel.predict(Xtest)\n",
        "ypredict"
      ]
    },
    {
      "cell_type": "code",
      "execution_count": null,
      "id": "25af6f6b",
      "metadata": {
        "id": "25af6f6b",
        "outputId": "c5ee9f12-adbb-4871-c313-18d84aa865ab",
        "colab": {
          "base_uri": "https://localhost:8080/"
        }
      },
      "outputs": [
        {
          "output_type": "execute_result",
          "data": {
            "text/plain": [
              "array([[ 37731.],\n",
              "       [122391.],\n",
              "       [ 57081.],\n",
              "       [ 63218.],\n",
              "       [116969.],\n",
              "       [109431.],\n",
              "       [112635.],\n",
              "       [ 55794.],\n",
              "       [ 83088.],\n",
              "       [101302.],\n",
              "       [ 56642.],\n",
              "       [ 66029.],\n",
              "       [ 64445.],\n",
              "       [ 61111.],\n",
              "       [113812.],\n",
              "       [ 91738.],\n",
              "       [ 46205.],\n",
              "       [121872.],\n",
              "       [ 60150.],\n",
              "       [ 39891.],\n",
              "       [ 81363.],\n",
              "       [ 93940.],\n",
              "       [ 57189.],\n",
              "       [ 54445.]])"
            ]
          },
          "metadata": {},
          "execution_count": 28
        }
      ],
      "source": [
        "ytest"
      ]
    },
    {
      "cell_type": "code",
      "execution_count": null,
      "id": "85200d43",
      "metadata": {
        "id": "85200d43",
        "outputId": "4b89f9d1-90ec-4b94-9885-e32886cb1e39",
        "colab": {
          "base_uri": "https://localhost:8080/"
        }
      },
      "outputs": [
        {
          "output_type": "execute_result",
          "data": {
            "text/plain": [
              "0.9468786210724934"
            ]
          },
          "metadata": {},
          "execution_count": 29
        }
      ],
      "source": [
        "linearmodel.score(Xtest,ytest)"
      ]
    },
    {
      "cell_type": "code",
      "execution_count": null,
      "id": "9b2ef4af",
      "metadata": {
        "id": "9b2ef4af"
      },
      "outputs": [],
      "source": [
        "from sklearn.metrics import mean_absolute_error, mean_squared_error, r2_score"
      ]
    },
    {
      "cell_type": "code",
      "execution_count": null,
      "id": "6e2ff9a0",
      "metadata": {
        "id": "6e2ff9a0",
        "outputId": "28096fcf-7b2f-41de-d044-78846488e573",
        "colab": {
          "base_uri": "https://localhost:8080/"
        }
      },
      "outputs": [
        {
          "output_type": "execute_result",
          "data": {
            "text/plain": [
              "5115.567627173011"
            ]
          },
          "metadata": {},
          "execution_count": 31
        }
      ],
      "source": [
        "mean_absolute_error(ytest,ypredict)"
      ]
    },
    {
      "cell_type": "code",
      "execution_count": null,
      "id": "d35d5364",
      "metadata": {
        "id": "d35d5364",
        "outputId": "f54b1f4b-7966-4c48-93d7-b29a36b67593",
        "colab": {
          "base_uri": "https://localhost:8080/"
        }
      },
      "outputs": [
        {
          "output_type": "execute_result",
          "data": {
            "text/plain": [
              "38768419.012309395"
            ]
          },
          "metadata": {},
          "execution_count": 32
        }
      ],
      "source": [
        "mean_squared_error(ytest,ypredict)"
      ]
    },
    {
      "cell_type": "code",
      "execution_count": null,
      "id": "0025341d",
      "metadata": {
        "id": "0025341d",
        "outputId": "2b902a45-7452-4ae7-fd1e-7c695cc723b5",
        "colab": {
          "base_uri": "https://localhost:8080/"
        }
      },
      "outputs": [
        {
          "output_type": "execute_result",
          "data": {
            "text/plain": [
              "71.52319642726415"
            ]
          },
          "metadata": {},
          "execution_count": 33
        }
      ],
      "source": [
        "np.sqrt(mean_absolute_error(ytest,ypredict))"
      ]
    },
    {
      "cell_type": "code",
      "execution_count": null,
      "id": "e8d0bddd",
      "metadata": {
        "id": "e8d0bddd",
        "outputId": "17d385a7-9575-4ea6-ce99-12ce07e47382",
        "colab": {
          "base_uri": "https://localhost:8080/"
        }
      },
      "outputs": [
        {
          "output_type": "execute_result",
          "data": {
            "text/plain": [
              "0.9468786210724934"
            ]
          },
          "metadata": {},
          "execution_count": 34
        }
      ],
      "source": [
        "r2_score(ytest, ypredict)"
      ]
    },
    {
      "cell_type": "markdown",
      "source": [
        "7. In the above example code, we have taken the random state as 0, if we change the\n",
        "random state as 42, what does it mean for our training and testing data?\n",
        "a. The shape of the training data will become (42,)\n",
        "b. The shape of the training data will become (42,2)\n",
        "c. The random state does not have any effect on the shape of the data.\n",
        "d. The random state will increase the efficiency of the model by 42%.\n",
        "\n",
        "Ans: C\n"
      ],
      "metadata": {
        "id": "enaCPTMZ_N9r"
      },
      "id": "enaCPTMZ_N9r"
    },
    {
      "cell_type": "code",
      "source": [
        "Xtrain.shape\n",
        "Xtest.shape\n",
        "ytrain.shape\n",
        "ytest.shape"
      ],
      "metadata": {
        "colab": {
          "base_uri": "https://localhost:8080/"
        },
        "id": "M_vfUPjg_Wgi",
        "outputId": "76d2023e-db8f-4380-ff1a-3634d253b487"
      },
      "id": "M_vfUPjg_Wgi",
      "execution_count": null,
      "outputs": [
        {
          "output_type": "execute_result",
          "data": {
            "text/plain": [
              "(24, 1)"
            ]
          },
          "metadata": {},
          "execution_count": 35
        }
      ]
    },
    {
      "cell_type": "code",
      "source": [
        "Xtrain, Xtest, ytrain, ytest = train_test_split(X,Y, test_size=0.8, random_state=42)"
      ],
      "metadata": {
        "id": "a_gvkheo_2NK"
      },
      "id": "a_gvkheo_2NK",
      "execution_count": null,
      "outputs": []
    },
    {
      "cell_type": "code",
      "source": [
        "Xtrain.shape\n",
        "Xtest.shape\n",
        "ytrain.shape\n",
        "ytest.shape"
      ],
      "metadata": {
        "colab": {
          "base_uri": "https://localhost:8080/"
        },
        "id": "3rVNkM8X_4yQ",
        "outputId": "e8a87383-7529-46e3-f840-20c341ab34e5"
      },
      "id": "3rVNkM8X_4yQ",
      "execution_count": null,
      "outputs": [
        {
          "output_type": "execute_result",
          "data": {
            "text/plain": [
              "(24, 1)"
            ]
          },
          "metadata": {},
          "execution_count": 37
        }
      ]
    },
    {
      "cell_type": "markdown",
      "source": [
        "8. If the r2 score calculated in the above example is 0.98 , change the sample size of\n",
        "the training and testing set in the ratio 60:40, and build a linear regression model again.\n",
        "After plotting the best fit line on the test data, calculate the r2_score for the new model.\n",
        "a. 0.98\n",
        "b. 0.96\n",
        "c. 1.0\n",
        "d. 0.0\n",
        "\n",
        "Ans: b"
      ],
      "metadata": {
        "id": "Evv0CPhnATa0"
      },
      "id": "Evv0CPhnATa0"
    },
    {
      "cell_type": "code",
      "source": [
        "Xtrain, Xtest, ytrain, ytest = train_test_split(X,Y, test_size=0.4, random_state=0)\n",
        "linearmodel = LinearRegression()\n",
        "linearmodel.fit(Xtrain, ytrain)\n"
      ],
      "metadata": {
        "colab": {
          "base_uri": "https://localhost:8080/"
        },
        "id": "qDLuAWjyATAQ",
        "outputId": "7d573166-781c-4c40-b1d7-021effc13564"
      },
      "id": "qDLuAWjyATAQ",
      "execution_count": null,
      "outputs": [
        {
          "output_type": "execute_result",
          "data": {
            "text/plain": [
              "LinearRegression()"
            ]
          },
          "metadata": {},
          "execution_count": 38
        }
      ]
    },
    {
      "cell_type": "code",
      "source": [
        "ypredict = linearmodel.predict(Xtest)\n",
        "linearmodel.score(Xtest,ytest)"
      ],
      "metadata": {
        "colab": {
          "base_uri": "https://localhost:8080/"
        },
        "id": "YOhHvUCoDQGP",
        "outputId": "d8ca1d42-a240-4546-ecc9-4c9e2c33b1e9"
      },
      "id": "YOhHvUCoDQGP",
      "execution_count": null,
      "outputs": [
        {
          "output_type": "execute_result",
          "data": {
            "text/plain": [
              "0.9679117063698979"
            ]
          },
          "metadata": {},
          "execution_count": 39
        }
      ]
    },
    {
      "cell_type": "code",
      "source": [
        "from sklearn.metrics import mean_absolute_error, mean_squared_error, r2_score\n",
        "mean_absolute_error(ytest,ypredict)"
      ],
      "metadata": {
        "colab": {
          "base_uri": "https://localhost:8080/"
        },
        "id": "EGQiKXweA_nY",
        "outputId": "f1ae9d75-bf54-4fcd-a073-f1e96a5983c3"
      },
      "id": "EGQiKXweA_nY",
      "execution_count": null,
      "outputs": [
        {
          "output_type": "execute_result",
          "data": {
            "text/plain": [
              "3811.8240947365243"
            ]
          },
          "metadata": {},
          "execution_count": 40
        }
      ]
    },
    {
      "cell_type": "code",
      "source": [
        "mean_squared_error(ytest,ypredict)"
      ],
      "metadata": {
        "colab": {
          "base_uri": "https://localhost:8080/"
        },
        "id": "cY5uEieVBDpT",
        "outputId": "8122ca81-6c69-4902-ecd3-558a3570b2f0"
      },
      "id": "cY5uEieVBDpT",
      "execution_count": null,
      "outputs": [
        {
          "output_type": "execute_result",
          "data": {
            "text/plain": [
              "25234929.18660526"
            ]
          },
          "metadata": {},
          "execution_count": 41
        }
      ]
    },
    {
      "cell_type": "code",
      "source": [
        "np.sqrt(mean_absolute_error(ytest,ypredict))"
      ],
      "metadata": {
        "colab": {
          "base_uri": "https://localhost:8080/"
        },
        "id": "YQZaEdHmBFLC",
        "outputId": "b495c9d2-e3da-4c4b-d951-43aa9041b4c9"
      },
      "id": "YQZaEdHmBFLC",
      "execution_count": null,
      "outputs": [
        {
          "output_type": "execute_result",
          "data": {
            "text/plain": [
              "61.73997161269613"
            ]
          },
          "metadata": {},
          "execution_count": 42
        }
      ]
    },
    {
      "cell_type": "code",
      "source": [
        "r2_score(ytest, ypredict)"
      ],
      "metadata": {
        "colab": {
          "base_uri": "https://localhost:8080/"
        },
        "id": "b7XQ1yNuBHDq",
        "outputId": "1bd64156-d5a7-4920-d4c7-bda409bf2a49"
      },
      "id": "b7XQ1yNuBHDq",
      "execution_count": null,
      "outputs": [
        {
          "output_type": "execute_result",
          "data": {
            "text/plain": [
              "0.9679117063698979"
            ]
          },
          "metadata": {},
          "execution_count": 43
        }
      ]
    },
    {
      "cell_type": "markdown",
      "source": [
        "9. If while fitting the model with training and testing data, you get the following error\n",
        "ValueError: Expected 2D array, got 1D array instead: What could be\n",
        "the issue with the data, and how can you solve it?\n",
        "a. Reshape the data to a two dimensional array\n",
        "b. Reshape the data to two arrays of 1-D each.\n",
        "c. Both A and B\n",
        "d. None of the above\n",
        "\n",
        "Ans : a"
      ],
      "metadata": {
        "id": "1xjTrLRLBrT0"
      },
      "id": "1xjTrLRLBrT0"
    },
    {
      "cell_type": "code",
      "source": [
        "X = data['YearsExperience']\n",
        "Y = data['Salary']"
      ],
      "metadata": {
        "id": "dYjEJ97gWdop"
      },
      "id": "dYjEJ97gWdop",
      "execution_count": null,
      "outputs": []
    },
    {
      "cell_type": "code",
      "source": [
        "#to solve value error\n",
        "X = data['YearsExperience'].values.reshape(-1,1)\n",
        "Y = data['Salary'].values.reshape(-1,1)"
      ],
      "metadata": {
        "id": "VVAtoQ6uWjoq"
      },
      "id": "VVAtoQ6uWjoq",
      "execution_count": null,
      "outputs": []
    },
    {
      "cell_type": "code",
      "source": [
        "Xtrain, Xtest, ytrain, ytest = train_test_split(X,Y, test_size=0.4, random_state=0)\n",
        "linearmodel = LinearRegression()\n",
        "linearmodel.fit(Xtrain, ytrain)"
      ],
      "metadata": {
        "colab": {
          "base_uri": "https://localhost:8080/"
        },
        "id": "gUyUcNk9Btfo",
        "outputId": "1fd91cbe-596d-4a9d-bada-047fe6ccb5a6"
      },
      "id": "gUyUcNk9Btfo",
      "execution_count": null,
      "outputs": [
        {
          "output_type": "execute_result",
          "data": {
            "text/plain": [
              "LinearRegression()"
            ]
          },
          "metadata": {},
          "execution_count": 46
        }
      ]
    },
    {
      "cell_type": "markdown",
      "source": [],
      "metadata": {
        "id": "P8M_3XU_BrJu"
      },
      "id": "P8M_3XU_BrJu"
    },
    {
      "cell_type": "markdown",
      "source": [
        "##Housing.csv questions"
      ],
      "metadata": {
        "id": "T0I9YdmlD9bE"
      },
      "id": "T0I9YdmlD9bE"
    },
    {
      "cell_type": "markdown",
      "source": [
        "10. How many houses have a waterfront?\n",
        "a. 21000\n",
        "b. 21450\n",
        "c. 163\n",
        "d. 173\n",
        "\n",
        "Ans : c"
      ],
      "metadata": {
        "id": "vcoy0ek1ETYB"
      },
      "id": "vcoy0ek1ETYB"
    },
    {
      "cell_type": "code",
      "source": [
        "housing['waterfront'][housing[\"waterfront\"]==1].count()"
      ],
      "metadata": {
        "colab": {
          "base_uri": "https://localhost:8080/"
        },
        "id": "qUuNlAraFYOc",
        "outputId": "b7123c45-a480-4ffd-9d91-91f80625c284"
      },
      "id": "qUuNlAraFYOc",
      "execution_count": null,
      "outputs": [
        {
          "output_type": "execute_result",
          "data": {
            "text/plain": [
              "163"
            ]
          },
          "metadata": {},
          "execution_count": 47
        }
      ]
    },
    {
      "cell_type": "markdown",
      "source": [
        "11. How many houses have 2 floors?\n",
        "a. 2692\n",
        "b. 8241\n",
        "c. 10680\n",
        "d. 161\n",
        "\n",
        "Ans : b"
      ],
      "metadata": {
        "id": "yrEXnsZ2LXf5"
      },
      "id": "yrEXnsZ2LXf5"
    },
    {
      "cell_type": "code",
      "source": [
        "housing['floors'][housing[\"floors\"]==2].count()"
      ],
      "metadata": {
        "colab": {
          "base_uri": "https://localhost:8080/"
        },
        "id": "-7caZeuOLcPo",
        "outputId": "cce46ea8-f4fe-4d9f-b4dc-586ce958b434"
      },
      "id": "-7caZeuOLcPo",
      "execution_count": null,
      "outputs": [
        {
          "output_type": "execute_result",
          "data": {
            "text/plain": [
              "8241"
            ]
          },
          "metadata": {},
          "execution_count": 48
        }
      ]
    },
    {
      "cell_type": "markdown",
      "source": [
        "12. How many houses built before 1960 have a waterfront?\n",
        "a. 80\n",
        "b. 7309\n",
        "c. 90\n",
        "d. 92\n",
        "\n",
        "Ans : a"
      ],
      "metadata": {
        "id": "RC3xxgswLmj9"
      },
      "id": "RC3xxgswLmj9"
    },
    {
      "cell_type": "code",
      "source": [
        "housing[(housing[\"yr_built\"]<1960)&(housing[\"waterfront\"]==1)].count() ['waterfront'] "
      ],
      "metadata": {
        "colab": {
          "base_uri": "https://localhost:8080/"
        },
        "id": "E1mU_wauLyc6",
        "outputId": "f0ebd478-1226-41c8-8547-b5869978a6c8"
      },
      "id": "E1mU_wauLyc6",
      "execution_count": null,
      "outputs": [
        {
          "output_type": "execute_result",
          "data": {
            "text/plain": [
              "80"
            ]
          },
          "metadata": {},
          "execution_count": 49
        }
      ]
    },
    {
      "cell_type": "markdown",
      "source": [
        "13. What is the price of the most expensive house having more than 4\n",
        "bathrooms?\n",
        "a. 7700000\n",
        "b. 187000\n",
        "c. 290000\n",
        "d. 399000\n",
        "\n",
        "Ans : a"
      ],
      "metadata": {
        "id": "h5pvKCpYOMK3"
      },
      "id": "h5pvKCpYOMK3"
    },
    {
      "cell_type": "code",
      "source": [
        "housing[housing[\"bathrooms\"]>4]['price'].max()"
      ],
      "metadata": {
        "colab": {
          "base_uri": "https://localhost:8080/"
        },
        "id": "a9P5oUnKOJOY",
        "outputId": "33cd2131-2259-4ee2-bee9-dda426a8b515"
      },
      "id": "a9P5oUnKOJOY",
      "execution_count": null,
      "outputs": [
        {
          "output_type": "execute_result",
          "data": {
            "text/plain": [
              "7700000"
            ]
          },
          "metadata": {},
          "execution_count": 50
        }
      ]
    },
    {
      "cell_type": "markdown",
      "source": [
        "14. The image shown below shows the boxplot of the price column from the housing\n",
        "dataset. What inferences can you make from the plot?\n",
        "\n",
        "a. The price column is normally distributed.\n",
        "b. There might be high chances of price data having null values.\n",
        "c. There is a presence of outliers in the price data.\n",
        "d. There is no presence of outliers in the price data.\n",
        "\n",
        "Ans : C"
      ],
      "metadata": {
        "id": "j7Ap12-2OtMu"
      },
      "id": "j7Ap12-2OtMu"
    },
    {
      "cell_type": "code",
      "source": [
        "housing['price'].plot(kind='box');"
      ],
      "metadata": {
        "colab": {
          "base_uri": "https://localhost:8080/",
          "height": 284
        },
        "id": "UtU8N3f_OxLA",
        "outputId": "26d4f116-4642-4f7d-c48f-d302af5d7c60"
      },
      "id": "UtU8N3f_OxLA",
      "execution_count": null,
      "outputs": [
        {
          "output_type": "display_data",
          "data": {
            "text/plain": [
              "<Figure size 432x288 with 1 Axes>"
            ],
            "image/png": "[encoded data removed]"
          },
          "metadata": {}
        }
      ]
    },
    {
      "cell_type": "markdown",
      "source": [
        "15. For instance, if the ‘price’ column consists of outliers, how can you make the data clean and remove the redundancies?\n",
        "\n",
        "a. Calculate the IQR range and drop the values outside the range.\n",
        "b. Calculate the p-value and remove the values less than 0.05.\n",
        "c. Calculate the correlation coefficient of the price column and remove the values less than\n",
        "the correlation coefficient.\n",
        "d. Calculate the Z-score of the price column and remove the values less than the z-score.\n",
        "\n",
        "Ans : b"
      ],
      "metadata": {
        "id": "oJAXcxmZQHET"
      },
      "id": "oJAXcxmZQHET"
    },
    {
      "cell_type": "markdown",
      "source": [
        "16. What are the various parameters that can be used to determine the dependent variables in the housing data to determine the price of the house?\n",
        "a. Correlation coefficients\n",
        "b. Z-score\n",
        "c. IQR Range\n",
        "d. Range of the Features \n",
        "\n",
        "Ans :a"
      ],
      "metadata": {
        "id": "h4F_pkQyU5GG"
      },
      "id": "h4F_pkQyU5GG"
    },
    {
      "cell_type": "code",
      "source": [
        "#Outlier Detection\n",
        "\n",
        "global lower,upper\n",
        "# calculate the mean and standard deviation of the data frame\n",
        "data_mean, data_std = housing['price'].mean(), housing['price'].std()\n",
        "\n",
        "# calculate the cutoff value\n",
        "cut_off = data_std * 3\n",
        "\n",
        "# calculate the lower and upper bound value\n",
        "lower, upper = data_mean - cut_off, data_mean + cut_off\n",
        "print('The lower bound value is', lower)\n",
        "print('The upper bound value is', upper)\n",
        "\n",
        "# Calculate the number of records below and above lower and above bound value respectively\n",
        "df1 = housing[housing['price'] > upper]\n",
        "df2 = housing[housing['price'] < lower]\n",
        "\n",
        "print('Total number of outliers are', df1.shape[0]+ df2.shape[0])"
      ],
      "metadata": {
        "colab": {
          "base_uri": "https://localhost:8080/"
        },
        "id": "0IIesU775GCS",
        "outputId": "ba30ef70-6f0d-47b8-b45a-1c02bd1e6309"
      },
      "id": "0IIesU775GCS",
      "execution_count": null,
      "outputs": [
        {
          "output_type": "stream",
          "name": "stdout",
          "text": [
            "The lower bound value is -561293.4459997534\n",
            "The upper bound value is 1641469.729810423\n",
            "Total number of outliers are 406\n"
          ]
        }
      ]
    },
    {
      "cell_type": "code",
      "source": [
        "housing_clean=housing[(housing['price']<upper) & (housing['price']>lower)]"
      ],
      "metadata": {
        "id": "vyFd8y_85J6s"
      },
      "id": "vyFd8y_85J6s",
      "execution_count": null,
      "outputs": []
    },
    {
      "cell_type": "code",
      "source": [
        "plt.figure(figsize=(20,10))\n",
        "sns.heatmap(housing_clean.corr(),annot=True,cmap=\"rainbow\")\n",
        "plt.show()"
      ],
      "metadata": {
        "colab": {
          "base_uri": "https://localhost:8080/",
          "height": 687
        },
        "id": "8k5JrC2r4_-U",
        "outputId": "45cd7e72-50d2-44c2-c531-cbeb3f06d073"
      },
      "id": "8k5JrC2r4_-U",
      "execution_count": null,
      "outputs": [
        {
          "output_type": "display_data",
          "data": {
            "text/plain": [
              "<Figure size 1440x720 with 2 Axes>"
            ],
            "image/png": "[encoded data removed]"
          },
          "metadata": {}
        }
      ]
    },
    {
      "cell_type": "markdown",
      "source": [],
      "metadata": {
        "id": "U4rHEbYgTut6"
      },
      "id": "U4rHEbYgTut6"
    },
    {
      "cell_type": "markdown",
      "source": [
        "17. If we get the r2 score as 0.38, what inferences can we make about the model and\n",
        "its efficiency?\n",
        "a. The model is 38% accurate, and shows poor efficiency.\n",
        "b. The model is showing 0.38% discrepancies in the outcomes.\n",
        "c. Low difference between observed and fitted values.\n",
        "d. High difference between observed and fitted values.\n",
        "\n",
        "Ans : a"
      ],
      "metadata": {
        "id": "vF-cxBxSVba9"
      },
      "id": "vF-cxBxSVba9"
    },
    {
      "cell_type": "code",
      "source": [
        "housing_clean.dropna(inplace=True)"
      ],
      "metadata": {
        "id": "LCgwG-U6lkCH",
        "colab": {
          "base_uri": "https://localhost:8080/"
        },
        "outputId": "0703bf16-4248-434c-9934-6e9eae6c3010"
      },
      "id": "LCgwG-U6lkCH",
      "execution_count": null,
      "outputs": [
        {
          "output_type": "stream",
          "name": "stderr",
          "text": [
            "/usr/local/lib/python3.7/dist-packages/pandas/util/_decorators.py:311: SettingWithCopyWarning: \n",
            "A value is trying to be set on a copy of a slice from a DataFrame\n",
            "\n",
            "See the caveats in the documentation: https://pandas.pydata.org/pandas-docs/stable/user_guide/indexing.html#returning-a-view-versus-a-copy\n",
            "  return func(*args, **kwargs)\n"
          ]
        }
      ]
    },
    {
      "cell_type": "code",
      "source": [
        "housing_clean.corr()"
      ],
      "metadata": {
        "colab": {
          "base_uri": "https://localhost:8080/",
          "height": 741
        },
        "id": "vhUBiddqlPTJ",
        "outputId": "16d752cd-33b3-435e-8f59-3b32b050d863"
      },
      "id": "vhUBiddqlPTJ",
      "execution_count": null,
      "outputs": [
        {
          "output_type": "execute_result",
          "data": {
            "text/plain": [
              "                     id     price  bedrooms  bathrooms  sqft_living  sqft_lot  \\\n",
              "id             1.000000 -0.003108  0.004823   0.014556    -0.001973 -0.132779   \n",
              "price         -0.003108  1.000000  0.311157   0.494776     0.664942  0.091307   \n",
              "bedrooms       0.004823  0.311157  1.000000   0.505286     0.581192  0.029902   \n",
              "bathrooms      0.014556  0.494776  0.505286   1.000000     0.734467  0.078326   \n",
              "sqft_living   -0.001973  0.664942  0.581192   0.734467     1.000000  0.168819   \n",
              "sqft_lot      -0.132779  0.091307  0.029902   0.078326     0.168819  1.000000   \n",
              "floors         0.023212  0.278034  0.164526   0.502479     0.349692 -0.013336   \n",
              "waterfront     0.008622  0.100946 -0.036243   0.006128     0.016027  0.023145   \n",
              "view           0.020550  0.318104  0.053824   0.135185     0.220806  0.070522   \n",
              "condition     -0.024184  0.036619  0.025486  -0.132861    -0.069319 -0.006503   \n",
              "grade          0.020044  0.672070  0.339889   0.639389     0.738172  0.102041   \n",
              "sqft_above    -0.001563  0.567139  0.468966   0.658648     0.863352  0.176437   \n",
              "sqft_basement -0.001044  0.278555  0.292042   0.249177     0.399960  0.011783   \n",
              "yr_built       0.022798  0.060582  0.158145   0.526695     0.342796  0.049071   \n",
              "yr_renovated  -0.016313  0.107197  0.010201   0.037794     0.034234  0.008922   \n",
              "zipcode       -0.007734 -0.032356 -0.149488  -0.202173    -0.200880 -0.130772   \n",
              "lat            0.000085  0.384907 -0.017250   0.009921     0.035019 -0.090272   \n",
              "long           0.021145  0.045966  0.134481   0.237500     0.267892  0.226576   \n",
              "sqft_living15  0.004847  0.595249  0.378939   0.547966     0.751807  0.145112   \n",
              "sqft_lot15    -0.139040  0.087579  0.027384   0.081422     0.183835  0.719538   \n",
              "\n",
              "                 floors  waterfront      view  condition     grade  \\\n",
              "id             0.023212    0.008622  0.020550  -0.024184  0.020044   \n",
              "price          0.278034    0.100946  0.318104   0.036619  0.672070   \n",
              "bedrooms       0.164526   -0.036243  0.053824   0.025486  0.339889   \n",
              "bathrooms      0.502479    0.006128  0.135185  -0.132861  0.639389   \n",
              "sqft_living    0.349692    0.016027  0.220806  -0.069319  0.738172   \n",
              "sqft_lot      -0.013336    0.023145  0.070522  -0.006503  0.102041   \n",
              "floors         1.000000    0.001583  0.005670  -0.270476  0.456733   \n",
              "waterfront     0.001583    1.000000  0.324400   0.014918  0.009301   \n",
              "view           0.005670    0.324400  1.000000   0.038404  0.192620   \n",
              "condition     -0.270476    0.014918  0.038404   1.000000 -0.157935   \n",
              "grade          0.456733    0.009301  0.192620  -0.157935  1.000000   \n",
              "sqft_above     0.528508    0.003382  0.107076  -0.171403  0.733357   \n",
              "sqft_basement -0.271724    0.025399  0.240083   0.174901  0.120771   \n",
              "yr_built       0.498624   -0.039858 -0.061716  -0.357417  0.469007   \n",
              "yr_renovated   0.002075    0.084788  0.090145  -0.061139 -0.003764   \n",
              "zipcode       -0.059713    0.045812  0.096791  -0.001318 -0.182631   \n",
              "lat            0.044653   -0.037120 -0.009944  -0.016566  0.103036   \n",
              "long           0.129451   -0.057261 -0.080306  -0.104242  0.214964   \n",
              "sqft_living15  0.272335    0.025587  0.232648  -0.106749  0.696558   \n",
              "sqft_lot15    -0.015433    0.031005  0.070082  -0.002251  0.112475   \n",
              "\n",
              "               sqft_above  sqft_basement  yr_built  yr_renovated   zipcode  \\\n",
              "id              -0.001563      -0.001044  0.022798     -0.016313 -0.007734   \n",
              "price            0.567139       0.278555  0.060582      0.107197 -0.032356   \n",
              "bedrooms         0.468966       0.292042  0.158145      0.010201 -0.149488   \n",
              "bathrooms        0.658648       0.249177  0.526695      0.037794 -0.202173   \n",
              "sqft_living      0.863352       0.399960  0.342796      0.034234 -0.200880   \n",
              "sqft_lot         0.176437       0.011783  0.049071      0.008922 -0.130772   \n",
              "floors           0.528508      -0.271724  0.498624      0.002075 -0.059713   \n",
              "waterfront       0.003382       0.025399 -0.039858      0.084788  0.045812   \n",
              "view             0.107076       0.240083 -0.061716      0.090145  0.096791   \n",
              "condition       -0.171403       0.174901 -0.357417     -0.061139 -0.001318   \n",
              "grade            0.733357       0.120771  0.469007     -0.003764 -0.182631   \n",
              "sqft_above       1.000000      -0.117178  0.448582      0.005435 -0.265211   \n",
              "sqft_basement   -0.117178       1.000000 -0.140121      0.057504  0.086360   \n",
              "yr_built         0.448582      -0.140121  1.000000     -0.223303 -0.344479   \n",
              "yr_renovated     0.005435       0.057504 -0.223303      1.000000  0.070675   \n",
              "zipcode         -0.265211       0.086360 -0.344479      0.070675  1.000000   \n",
              "lat             -0.020430       0.106030 -0.150421      0.025572  0.271627   \n",
              "long             0.372508      -0.149365  0.410387     -0.067830 -0.565131   \n",
              "sqft_living15    0.727116       0.158941  0.345121     -0.026701 -0.281952   \n",
              "sqft_lot15       0.191443       0.014081  0.068694      0.007466 -0.147406   \n",
              "\n",
              "                    lat      long  sqft_living15  sqft_lot15  \n",
              "id             0.000085  0.021145       0.004847   -0.139040  \n",
              "price          0.384907  0.045966       0.595249    0.087579  \n",
              "bedrooms      -0.017250  0.134481       0.378939    0.027384  \n",
              "bathrooms      0.009921  0.237500       0.547966    0.081422  \n",
              "sqft_living    0.035019  0.267892       0.751807    0.183835  \n",
              "sqft_lot      -0.090272  0.226576       0.145112    0.719538  \n",
              "floors         0.044653  0.129451       0.272335   -0.015433  \n",
              "waterfront    -0.037120 -0.057261       0.025587    0.031005  \n",
              "view          -0.009944 -0.080306       0.232648    0.070082  \n",
              "condition     -0.016566 -0.104242      -0.106749   -0.002251  \n",
              "grade          0.103036  0.214964       0.696558    0.112475  \n",
              "sqft_above    -0.020430  0.372508       0.727116    0.191443  \n",
              "sqft_basement  0.106030 -0.149365       0.158941    0.014081  \n",
              "yr_built      -0.150421  0.410387       0.345121    0.068694  \n",
              "yr_renovated   0.025572 -0.067830      -0.026701    0.007466  \n",
              "zipcode        0.271627 -0.565131      -0.281952   -0.147406  \n",
              "lat            1.000000 -0.134222       0.036514   -0.089037  \n",
              "long          -0.134222  1.000000       0.356141    0.251971  \n",
              "sqft_living15  0.036514  0.356141       1.000000    0.182166  \n",
              "sqft_lot15    -0.089037  0.251971       0.182166    1.000000  "
            ],
            "text/html": [
              "\n",
              "  <div id=\"df-7fb07ef4-0e30-4112-8583-d529c891f21f\">\n",
              "    <div class=\"colab-df-container\">\n",
              "      <div>\n",
              "<style scoped>\n",
              "    .dataframe tbody tr th:only-of-type {\n",
              "        vertical-align: middle;\n",
              "    }\n",
              "\n",
              "    .dataframe tbody tr th {\n",
              "        vertical-align: top;\n",
              "    }\n",
              "\n",
              "    .dataframe thead th {\n",
              "        text-align: right;\n",
              "    }\n",
              "</style>\n",
              "<table border=\"1\" class=\"dataframe\">\n",
              "  <thead>\n",
              "    <tr style=\"text-align: right;\">\n",
              "      <th></th>\n",
              "      <th>id</th>\n",
              "      <th>price</th>\n",
              "      <th>bedrooms</th>\n",
              "      <th>bathrooms</th>\n",
              "      <th>sqft_living</th>\n",
              "      <th>sqft_lot</th>\n",
              "      <th>floors</th>\n",
              "      <th>waterfront</th>\n",
              "      <th>view</th>\n",
              "      <th>condition</th>\n",
              "      <th>grade</th>\n",
              "      <th>sqft_above</th>\n",
              "      <th>sqft_basement</th>\n",
              "      <th>yr_built</th>\n",
              "      <th>yr_renovated</th>\n",
              "      <th>zipcode</th>\n",
              "      <th>lat</th>\n",
              "      <th>long</th>\n",
              "      <th>sqft_living15</th>\n",
              "      <th>sqft_lot15</th>\n",
              "    </tr>\n",
              "  </thead>\n",
              "  <tbody>\n",
              "    <tr>\n",
              "      <th>id</th>\n",
              "      <td>1.000000</td>\n",
              "      <td>-0.003108</td>\n",
              "      <td>0.004823</td>\n",
              "      <td>0.014556</td>\n",
              "      <td>-0.001973</td>\n",
              "      <td>-0.132779</td>\n",
              "      <td>0.023212</td>\n",
              "      <td>0.008622</td>\n",
              "      <td>0.020550</td>\n",
              "      <td>-0.024184</td>\n",
              "      <td>0.020044</td>\n",
              "      <td>-0.001563</td>\n",
              "      <td>-0.001044</td>\n",
              "      <td>0.022798</td>\n",
              "      <td>-0.016313</td>\n",
              "      <td>-0.007734</td>\n",
              "      <td>0.000085</td>\n",
              "      <td>0.021145</td>\n",
              "      <td>0.004847</td>\n",
              "      <td>-0.139040</td>\n",
              "    </tr>\n",
              "    <tr>\n",
              "      <th>price</th>\n",
              "      <td>-0.003108</td>\n",
              "      <td>1.000000</td>\n",
              "      <td>0.311157</td>\n",
              "      <td>0.494776</td>\n",
              "      <td>0.664942</td>\n",
              "      <td>0.091307</td>\n",
              "      <td>0.278034</td>\n",
              "      <td>0.100946</td>\n",
              "      <td>0.318104</td>\n",
              "      <td>0.036619</td>\n",
              "      <td>0.672070</td>\n",
              "      <td>0.567139</td>\n",
              "      <td>0.278555</td>\n",
              "      <td>0.060582</td>\n",
              "      <td>0.107197</td>\n",
              "      <td>-0.032356</td>\n",
              "      <td>0.384907</td>\n",
              "      <td>0.045966</td>\n",
              "      <td>0.595249</td>\n",
              "      <td>0.087579</td>\n",
              "    </tr>\n",
              "    <tr>\n",
              "      <th>bedrooms</th>\n",
              "      <td>0.004823</td>\n",
              "      <td>0.311157</td>\n",
              "      <td>1.000000</td>\n",
              "      <td>0.505286</td>\n",
              "      <td>0.581192</td>\n",
              "      <td>0.029902</td>\n",
              "      <td>0.164526</td>\n",
              "      <td>-0.036243</td>\n",
              "      <td>0.053824</td>\n",
              "      <td>0.025486</td>\n",
              "      <td>0.339889</td>\n",
              "      <td>0.468966</td>\n",
              "      <td>0.292042</td>\n",
              "      <td>0.158145</td>\n",
              "      <td>0.010201</td>\n",
              "      <td>-0.149488</td>\n",
              "      <td>-0.017250</td>\n",
              "      <td>0.134481</td>\n",
              "      <td>0.378939</td>\n",
              "      <td>0.027384</td>\n",
              "    </tr>\n",
              "    <tr>\n",
              "      <th>bathrooms</th>\n",
              "      <td>0.014556</td>\n",
              "      <td>0.494776</td>\n",
              "      <td>0.505286</td>\n",
              "      <td>1.000000</td>\n",
              "      <td>0.734467</td>\n",
              "      <td>0.078326</td>\n",
              "      <td>0.502479</td>\n",
              "      <td>0.006128</td>\n",
              "      <td>0.135185</td>\n",
              "      <td>-0.132861</td>\n",
              "      <td>0.639389</td>\n",
              "      <td>0.658648</td>\n",
              "      <td>0.249177</td>\n",
              "      <td>0.526695</td>\n",
              "      <td>0.037794</td>\n",
              "      <td>-0.202173</td>\n",
              "      <td>0.009921</td>\n",
              "      <td>0.237500</td>\n",
              "      <td>0.547966</td>\n",
              "      <td>0.081422</td>\n",
              "    </tr>\n",
              "    <tr>\n",
              "      <th>sqft_living</th>\n",
              "      <td>-0.001973</td>\n",
              "      <td>0.664942</td>\n",
              "      <td>0.581192</td>\n",
              "      <td>0.734467</td>\n",
              "      <td>1.000000</td>\n",
              "      <td>0.168819</td>\n",
              "      <td>0.349692</td>\n",
              "      <td>0.016027</td>\n",
              "      <td>0.220806</td>\n",
              "      <td>-0.069319</td>\n",
              "      <td>0.738172</td>\n",
              "      <td>0.863352</td>\n",
              "      <td>0.399960</td>\n",
              "      <td>0.342796</td>\n",
              "      <td>0.034234</td>\n",
              "      <td>-0.200880</td>\n",
              "      <td>0.035019</td>\n",
              "      <td>0.267892</td>\n",
              "      <td>0.751807</td>\n",
              "      <td>0.183835</td>\n",
              "    </tr>\n",
              "    <tr>\n",
              "      <th>sqft_lot</th>\n",
              "      <td>-0.132779</td>\n",
              "      <td>0.091307</td>\n",
              "      <td>0.029902</td>\n",
              "      <td>0.078326</td>\n",
              "      <td>0.168819</td>\n",
              "      <td>1.000000</td>\n",
              "      <td>-0.013336</td>\n",
              "      <td>0.023145</td>\n",
              "      <td>0.070522</td>\n",
              "      <td>-0.006503</td>\n",
              "      <td>0.102041</td>\n",
              "      <td>0.176437</td>\n",
              "      <td>0.011783</td>\n",
              "      <td>0.049071</td>\n",
              "      <td>0.008922</td>\n",
              "      <td>-0.130772</td>\n",
              "      <td>-0.090272</td>\n",
              "      <td>0.226576</td>\n",
              "      <td>0.145112</td>\n",
              "      <td>0.719538</td>\n",
              "    </tr>\n",
              "    <tr>\n",
              "      <th>floors</th>\n",
              "      <td>0.023212</td>\n",
              "      <td>0.278034</td>\n",
              "      <td>0.164526</td>\n",
              "      <td>0.502479</td>\n",
              "      <td>0.349692</td>\n",
              "      <td>-0.013336</td>\n",
              "      <td>1.000000</td>\n",
              "      <td>0.001583</td>\n",
              "      <td>0.005670</td>\n",
              "      <td>-0.270476</td>\n",
              "      <td>0.456733</td>\n",
              "      <td>0.528508</td>\n",
              "      <td>-0.271724</td>\n",
              "      <td>0.498624</td>\n",
              "      <td>0.002075</td>\n",
              "      <td>-0.059713</td>\n",
              "      <td>0.044653</td>\n",
              "      <td>0.129451</td>\n",
              "      <td>0.272335</td>\n",
              "      <td>-0.015433</td>\n",
              "    </tr>\n",
              "    <tr>\n",
              "      <th>waterfront</th>\n",
              "      <td>0.008622</td>\n",
              "      <td>0.100946</td>\n",
              "      <td>-0.036243</td>\n",
              "      <td>0.006128</td>\n",
              "      <td>0.016027</td>\n",
              "      <td>0.023145</td>\n",
              "      <td>0.001583</td>\n",
              "      <td>1.000000</td>\n",
              "      <td>0.324400</td>\n",
              "      <td>0.014918</td>\n",
              "      <td>0.009301</td>\n",
              "      <td>0.003382</td>\n",
              "      <td>0.025399</td>\n",
              "      <td>-0.039858</td>\n",
              "      <td>0.084788</td>\n",
              "      <td>0.045812</td>\n",
              "      <td>-0.037120</td>\n",
              "      <td>-0.057261</td>\n",
              "      <td>0.025587</td>\n",
              "      <td>0.031005</td>\n",
              "    </tr>\n",
              "    <tr>\n",
              "      <th>view</th>\n",
              "      <td>0.020550</td>\n",
              "      <td>0.318104</td>\n",
              "      <td>0.053824</td>\n",
              "      <td>0.135185</td>\n",
              "      <td>0.220806</td>\n",
              "      <td>0.070522</td>\n",
              "      <td>0.005670</td>\n",
              "      <td>0.324400</td>\n",
              "      <td>1.000000</td>\n",
              "      <td>0.038404</td>\n",
              "      <td>0.192620</td>\n",
              "      <td>0.107076</td>\n",
              "      <td>0.240083</td>\n",
              "      <td>-0.061716</td>\n",
              "      <td>0.090145</td>\n",
              "      <td>0.096791</td>\n",
              "      <td>-0.009944</td>\n",
              "      <td>-0.080306</td>\n",
              "      <td>0.232648</td>\n",
              "      <td>0.070082</td>\n",
              "    </tr>\n",
              "    <tr>\n",
              "      <th>condition</th>\n",
              "      <td>-0.024184</td>\n",
              "      <td>0.036619</td>\n",
              "      <td>0.025486</td>\n",
              "      <td>-0.132861</td>\n",
              "      <td>-0.069319</td>\n",
              "      <td>-0.006503</td>\n",
              "      <td>-0.270476</td>\n",
              "      <td>0.014918</td>\n",
              "      <td>0.038404</td>\n",
              "      <td>1.000000</td>\n",
              "      <td>-0.157935</td>\n",
              "      <td>-0.171403</td>\n",
              "      <td>0.174901</td>\n",
              "      <td>-0.357417</td>\n",
              "      <td>-0.061139</td>\n",
              "      <td>-0.001318</td>\n",
              "      <td>-0.016566</td>\n",
              "      <td>-0.104242</td>\n",
              "      <td>-0.106749</td>\n",
              "      <td>-0.002251</td>\n",
              "    </tr>\n",
              "    <tr>\n",
              "      <th>grade</th>\n",
              "      <td>0.020044</td>\n",
              "      <td>0.672070</td>\n",
              "      <td>0.339889</td>\n",
              "      <td>0.639389</td>\n",
              "      <td>0.738172</td>\n",
              "      <td>0.102041</td>\n",
              "      <td>0.456733</td>\n",
              "      <td>0.009301</td>\n",
              "      <td>0.192620</td>\n",
              "      <td>-0.157935</td>\n",
              "      <td>1.000000</td>\n",
              "      <td>0.733357</td>\n",
              "      <td>0.120771</td>\n",
              "      <td>0.469007</td>\n",
              "      <td>-0.003764</td>\n",
              "      <td>-0.182631</td>\n",
              "      <td>0.103036</td>\n",
              "      <td>0.214964</td>\n",
              "      <td>0.696558</td>\n",
              "      <td>0.112475</td>\n",
              "    </tr>\n",
              "    <tr>\n",
              "      <th>sqft_above</th>\n",
              "      <td>-0.001563</td>\n",
              "      <td>0.567139</td>\n",
              "      <td>0.468966</td>\n",
              "      <td>0.658648</td>\n",
              "      <td>0.863352</td>\n",
              "      <td>0.176437</td>\n",
              "      <td>0.528508</td>\n",
              "      <td>0.003382</td>\n",
              "      <td>0.107076</td>\n",
              "      <td>-0.171403</td>\n",
              "      <td>0.733357</td>\n",
              "      <td>1.000000</td>\n",
              "      <td>-0.117178</td>\n",
              "      <td>0.448582</td>\n",
              "      <td>0.005435</td>\n",
              "      <td>-0.265211</td>\n",
              "      <td>-0.020430</td>\n",
              "      <td>0.372508</td>\n",
              "      <td>0.727116</td>\n",
              "      <td>0.191443</td>\n",
              "    </tr>\n",
              "    <tr>\n",
              "      <th>sqft_basement</th>\n",
              "      <td>-0.001044</td>\n",
              "      <td>0.278555</td>\n",
              "      <td>0.292042</td>\n",
              "      <td>0.249177</td>\n",
              "      <td>0.399960</td>\n",
              "      <td>0.011783</td>\n",
              "      <td>-0.271724</td>\n",
              "      <td>0.025399</td>\n",
              "      <td>0.240083</td>\n",
              "      <td>0.174901</td>\n",
              "      <td>0.120771</td>\n",
              "      <td>-0.117178</td>\n",
              "      <td>1.000000</td>\n",
              "      <td>-0.140121</td>\n",
              "      <td>0.057504</td>\n",
              "      <td>0.086360</td>\n",
              "      <td>0.106030</td>\n",
              "      <td>-0.149365</td>\n",
              "      <td>0.158941</td>\n",
              "      <td>0.014081</td>\n",
              "    </tr>\n",
              "    <tr>\n",
              "      <th>yr_built</th>\n",
              "      <td>0.022798</td>\n",
              "      <td>0.060582</td>\n",
              "      <td>0.158145</td>\n",
              "      <td>0.526695</td>\n",
              "      <td>0.342796</td>\n",
              "      <td>0.049071</td>\n",
              "      <td>0.498624</td>\n",
              "      <td>-0.039858</td>\n",
              "      <td>-0.061716</td>\n",
              "      <td>-0.357417</td>\n",
              "      <td>0.469007</td>\n",
              "      <td>0.448582</td>\n",
              "      <td>-0.140121</td>\n",
              "      <td>1.000000</td>\n",
              "      <td>-0.223303</td>\n",
              "      <td>-0.344479</td>\n",
              "      <td>-0.150421</td>\n",
              "      <td>0.410387</td>\n",
              "      <td>0.345121</td>\n",
              "      <td>0.068694</td>\n",
              "    </tr>\n",
              "    <tr>\n",
              "      <th>yr_renovated</th>\n",
              "      <td>-0.016313</td>\n",
              "      <td>0.107197</td>\n",
              "      <td>0.010201</td>\n",
              "      <td>0.037794</td>\n",
              "      <td>0.034234</td>\n",
              "      <td>0.008922</td>\n",
              "      <td>0.002075</td>\n",
              "      <td>0.084788</td>\n",
              "      <td>0.090145</td>\n",
              "      <td>-0.061139</td>\n",
              "      <td>-0.003764</td>\n",
              "      <td>0.005435</td>\n",
              "      <td>0.057504</td>\n",
              "      <td>-0.223303</td>\n",
              "      <td>1.000000</td>\n",
              "      <td>0.070675</td>\n",
              "      <td>0.025572</td>\n",
              "      <td>-0.067830</td>\n",
              "      <td>-0.026701</td>\n",
              "      <td>0.007466</td>\n",
              "    </tr>\n",
              "    <tr>\n",
              "      <th>zipcode</th>\n",
              "      <td>-0.007734</td>\n",
              "      <td>-0.032356</td>\n",
              "      <td>-0.149488</td>\n",
              "      <td>-0.202173</td>\n",
              "      <td>-0.200880</td>\n",
              "      <td>-0.130772</td>\n",
              "      <td>-0.059713</td>\n",
              "      <td>0.045812</td>\n",
              "      <td>0.096791</td>\n",
              "      <td>-0.001318</td>\n",
              "      <td>-0.182631</td>\n",
              "      <td>-0.265211</td>\n",
              "      <td>0.086360</td>\n",
              "      <td>-0.344479</td>\n",
              "      <td>0.070675</td>\n",
              "      <td>1.000000</td>\n",
              "      <td>0.271627</td>\n",
              "      <td>-0.565131</td>\n",
              "      <td>-0.281952</td>\n",
              "      <td>-0.147406</td>\n",
              "    </tr>\n",
              "    <tr>\n",
              "      <th>lat</th>\n",
              "      <td>0.000085</td>\n",
              "      <td>0.384907</td>\n",
              "      <td>-0.017250</td>\n",
              "      <td>0.009921</td>\n",
              "      <td>0.035019</td>\n",
              "      <td>-0.090272</td>\n",
              "      <td>0.044653</td>\n",
              "      <td>-0.037120</td>\n",
              "      <td>-0.009944</td>\n",
              "      <td>-0.016566</td>\n",
              "      <td>0.103036</td>\n",
              "      <td>-0.020430</td>\n",
              "      <td>0.106030</td>\n",
              "      <td>-0.150421</td>\n",
              "      <td>0.025572</td>\n",
              "      <td>0.271627</td>\n",
              "      <td>1.000000</td>\n",
              "      <td>-0.134222</td>\n",
              "      <td>0.036514</td>\n",
              "      <td>-0.089037</td>\n",
              "    </tr>\n",
              "    <tr>\n",
              "      <th>long</th>\n",
              "      <td>0.021145</td>\n",
              "      <td>0.045966</td>\n",
              "      <td>0.134481</td>\n",
              "      <td>0.237500</td>\n",
              "      <td>0.267892</td>\n",
              "      <td>0.226576</td>\n",
              "      <td>0.129451</td>\n",
              "      <td>-0.057261</td>\n",
              "      <td>-0.080306</td>\n",
              "      <td>-0.104242</td>\n",
              "      <td>0.214964</td>\n",
              "      <td>0.372508</td>\n",
              "      <td>-0.149365</td>\n",
              "      <td>0.410387</td>\n",
              "      <td>-0.067830</td>\n",
              "      <td>-0.565131</td>\n",
              "      <td>-0.134222</td>\n",
              "      <td>1.000000</td>\n",
              "      <td>0.356141</td>\n",
              "      <td>0.251971</td>\n",
              "    </tr>\n",
              "    <tr>\n",
              "      <th>sqft_living15</th>\n",
              "      <td>0.004847</td>\n",
              "      <td>0.595249</td>\n",
              "      <td>0.378939</td>\n",
              "      <td>0.547966</td>\n",
              "      <td>0.751807</td>\n",
              "      <td>0.145112</td>\n",
              "      <td>0.272335</td>\n",
              "      <td>0.025587</td>\n",
              "      <td>0.232648</td>\n",
              "      <td>-0.106749</td>\n",
              "      <td>0.696558</td>\n",
              "      <td>0.727116</td>\n",
              "      <td>0.158941</td>\n",
              "      <td>0.345121</td>\n",
              "      <td>-0.026701</td>\n",
              "      <td>-0.281952</td>\n",
              "      <td>0.036514</td>\n",
              "      <td>0.356141</td>\n",
              "      <td>1.000000</td>\n",
              "      <td>0.182166</td>\n",
              "    </tr>\n",
              "    <tr>\n",
              "      <th>sqft_lot15</th>\n",
              "      <td>-0.139040</td>\n",
              "      <td>0.087579</td>\n",
              "      <td>0.027384</td>\n",
              "      <td>0.081422</td>\n",
              "      <td>0.183835</td>\n",
              "      <td>0.719538</td>\n",
              "      <td>-0.015433</td>\n",
              "      <td>0.031005</td>\n",
              "      <td>0.070082</td>\n",
              "      <td>-0.002251</td>\n",
              "      <td>0.112475</td>\n",
              "      <td>0.191443</td>\n",
              "      <td>0.014081</td>\n",
              "      <td>0.068694</td>\n",
              "      <td>0.007466</td>\n",
              "      <td>-0.147406</td>\n",
              "      <td>-0.089037</td>\n",
              "      <td>0.251971</td>\n",
              "      <td>0.182166</td>\n",
              "      <td>1.000000</td>\n",
              "    </tr>\n",
              "  </tbody>\n",
              "</table>\n",
              "</div>\n",
              "      <button class=\"colab-df-convert\" onclick=\"convertToInteractive('df-7fb07ef4-0e30-4112-8583-d529c891f21f')\"\n",
              "              title=\"Convert this dataframe to an interactive table.\"\n",
              "              style=\"display:none;\">\n",
              "        \n",
              "  <svg xmlns=\"http://www.w3.org/2000/svg\" height=\"24px\"viewBox=\"0 0 24 24\"\n",
              "       width=\"24px\">\n",
              "    <path d=\"M0 0h24v24H0V0z\" fill=\"none\"/>\n",
              "    <path d=\"M18.56 5.44l.94 2.06.94-2.06 2.06-.94-2.06-.94-.94-2.06-.94 2.06-2.06.94zm-11 1L8.5 8.5l.94-2.06 2.06-.94-2.06-.94L8.5 2.5l-.94 2.06-2.06.94zm10 10l.94 2.06.94-2.06 2.06-.94-2.06-.94-.94-2.06-.94 2.06-2.06.94z\"/><path d=\"M17.41 7.96l-1.37-1.37c-.4-.4-.92-.59-1.43-.59-.52 0-1.04.2-1.43.59L10.3 9.45l-7.72 7.72c-.78.78-.78 2.05 0 2.83L4 21.41c.39.39.9.59 1.41.59.51 0 1.02-.2 1.41-.59l7.78-7.78 2.81-2.81c.8-.78.8-2.07 0-2.86zM5.41 20L4 18.59l7.72-7.72 1.47 1.35L5.41 20z\"/>\n",
              "  </svg>\n",
              "      </button>\n",
              "      \n",
              "  <style>\n",
              "    .colab-df-container {\n",
              "      display:flex;\n",
              "      flex-wrap:wrap;\n",
              "      gap: 12px;\n",
              "    }\n",
              "\n",
              "    .colab-df-convert {\n",
              "      background-color: #E8F0FE;\n",
              "      border: none;\n",
              "      border-radius: 50%;\n",
              "      cursor: pointer;\n",
              "      display: none;\n",
              "      fill: #1967D2;\n",
              "      height: 32px;\n",
              "      padding: 0 0 0 0;\n",
              "      width: 32px;\n",
              "    }\n",
              "\n",
              "    .colab-df-convert:hover {\n",
              "      background-color: #E2EBFA;\n",
              "      box-shadow: 0px 1px 2px rgba(60, 64, 67, 0.3), 0px 1px 3px 1px rgba(60, 64, 67, 0.15);\n",
              "      fill: #174EA6;\n",
              "    }\n",
              "\n",
              "    [theme=dark] .colab-df-convert {\n",
              "      background-color: #3B4455;\n",
              "      fill: #D2E3FC;\n",
              "    }\n",
              "\n",
              "    [theme=dark] .colab-df-convert:hover {\n",
              "      background-color: #434B5C;\n",
              "      box-shadow: 0px 1px 3px 1px rgba(0, 0, 0, 0.15);\n",
              "      filter: drop-shadow(0px 1px 2px rgba(0, 0, 0, 0.3));\n",
              "      fill: #FFFFFF;\n",
              "    }\n",
              "  </style>\n",
              "\n",
              "      <script>\n",
              "        const buttonEl =\n",
              "          document.querySelector('#df-7fb07ef4-0e30-4112-8583-d529c891f21f button.colab-df-convert');\n",
              "        buttonEl.style.display =\n",
              "          google.colab.kernel.accessAllowed ? 'block' : 'none';\n",
              "\n",
              "        async function convertToInteractive(key) {\n",
              "          const element = document.querySelector('#df-7fb07ef4-0e30-4112-8583-d529c891f21f');\n",
              "          const dataTable =\n",
              "            await google.colab.kernel.invokeFunction('convertToInteractive',\n",
              "                                                     [key], {});\n",
              "          if (!dataTable) return;\n",
              "\n",
              "          const docLinkHtml = 'Like what you see? Visit the ' +\n",
              "            '<a target=\"_blank\" href=https://colab.research.google.com/notebooks/data_table.ipynb>data table notebook</a>'\n",
              "            + ' to learn more about interactive tables.';\n",
              "          element.innerHTML = '';\n",
              "          dataTable['output_type'] = 'display_data';\n",
              "          await google.colab.output.renderOutput(dataTable, element);\n",
              "          const docLink = document.createElement('div');\n",
              "          docLink.innerHTML = docLinkHtml;\n",
              "          element.appendChild(docLink);\n",
              "        }\n",
              "      </script>\n",
              "    </div>\n",
              "  </div>\n",
              "  "
            ]
          },
          "metadata": {},
          "execution_count": 194
        }
      ]
    },
    {
      "cell_type": "code",
      "source": [
        "housing_clean.head()"
      ],
      "metadata": {
        "colab": {
          "base_uri": "https://localhost:8080/",
          "height": 300
        },
        "id": "N8D4o5iMoEVR",
        "outputId": "b882063e-dfe9-49a0-8d3a-8b430e651973"
      },
      "id": "N8D4o5iMoEVR",
      "execution_count": null,
      "outputs": [
        {
          "output_type": "execute_result",
          "data": {
            "text/plain": [
              "           id             date   price  bedrooms  bathrooms  sqft_living  \\\n",
              "0  7129300520  20141013T000000  221900         3       1.00         1180   \n",
              "1  6414100192  20141209T000000  538000         3       2.25         2570   \n",
              "2  5631500400  20150225T000000  180000         2       1.00          770   \n",
              "3  2487200875  20141209T000000  604000         4       3.00         1960   \n",
              "4  1954400510  20150218T000000  510000         3       2.00         1680   \n",
              "\n",
              "   sqft_lot  floors  waterfront  view  ...  grade  sqft_above  sqft_basement  \\\n",
              "0      5650     1.0           0     0  ...      7        1180              0   \n",
              "1      7242     2.0           0     0  ...      7        2170            400   \n",
              "2     10000     1.0           0     0  ...      6         770              0   \n",
              "3      5000     1.0           0     0  ...      7        1050            910   \n",
              "4      8080     1.0           0     0  ...      8        1680              0   \n",
              "\n",
              "   yr_built  yr_renovated  zipcode      lat     long  sqft_living15  \\\n",
              "0      1955             0    98178  47.5112 -122.257           1340   \n",
              "1      1951          1991    98125  47.7210 -122.319           1690   \n",
              "2      1933             0    98028  47.7379 -122.233           2720   \n",
              "3      1965             0    98136  47.5208 -122.393           1360   \n",
              "4      1987             0    98074  47.6168 -122.045           1800   \n",
              "\n",
              "   sqft_lot15  \n",
              "0        5650  \n",
              "1        7639  \n",
              "2        8062  \n",
              "3        5000  \n",
              "4        7503  \n",
              "\n",
              "[5 rows x 21 columns]"
            ],
            "text/html": [
              "\n",
              "  <div id=\"df-a4fc6f46-170d-4540-a781-196e5e8e7945\">\n",
              "    <div class=\"colab-df-container\">\n",
              "      <div>\n",
              "<style scoped>\n",
              "    .dataframe tbody tr th:only-of-type {\n",
              "        vertical-align: middle;\n",
              "    }\n",
              "\n",
              "    .dataframe tbody tr th {\n",
              "        vertical-align: top;\n",
              "    }\n",
              "\n",
              "    .dataframe thead th {\n",
              "        text-align: right;\n",
              "    }\n",
              "</style>\n",
              "<table border=\"1\" class=\"dataframe\">\n",
              "  <thead>\n",
              "    <tr style=\"text-align: right;\">\n",
              "      <th></th>\n",
              "      <th>id</th>\n",
              "      <th>date</th>\n",
              "      <th>price</th>\n",
              "      <th>bedrooms</th>\n",
              "      <th>bathrooms</th>\n",
              "      <th>sqft_living</th>\n",
              "      <th>sqft_lot</th>\n",
              "      <th>floors</th>\n",
              "      <th>waterfront</th>\n",
              "      <th>view</th>\n",
              "      <th>...</th>\n",
              "      <th>grade</th>\n",
              "      <th>sqft_above</th>\n",
              "      <th>sqft_basement</th>\n",
              "      <th>yr_built</th>\n",
              "      <th>yr_renovated</th>\n",
              "      <th>zipcode</th>\n",
              "      <th>lat</th>\n",
              "      <th>long</th>\n",
              "      <th>sqft_living15</th>\n",
              "      <th>sqft_lot15</th>\n",
              "    </tr>\n",
              "  </thead>\n",
              "  <tbody>\n",
              "    <tr>\n",
              "      <th>0</th>\n",
              "      <td>7129300520</td>\n",
              "      <td>20141013T000000</td>\n",
              "      <td>221900</td>\n",
              "      <td>3</td>\n",
              "      <td>1.00</td>\n",
              "      <td>1180</td>\n",
              "      <td>5650</td>\n",
              "      <td>1.0</td>\n",
              "      <td>0</td>\n",
              "      <td>0</td>\n",
              "      <td>...</td>\n",
              "      <td>7</td>\n",
              "      <td>1180</td>\n",
              "      <td>0</td>\n",
              "      <td>1955</td>\n",
              "      <td>0</td>\n",
              "      <td>98178</td>\n",
              "      <td>47.5112</td>\n",
              "      <td>-122.257</td>\n",
              "      <td>1340</td>\n",
              "      <td>5650</td>\n",
              "    </tr>\n",
              "    <tr>\n",
              "      <th>1</th>\n",
              "      <td>6414100192</td>\n",
              "      <td>20141209T000000</td>\n",
              "      <td>538000</td>\n",
              "      <td>3</td>\n",
              "      <td>2.25</td>\n",
              "      <td>2570</td>\n",
              "      <td>7242</td>\n",
              "      <td>2.0</td>\n",
              "      <td>0</td>\n",
              "      <td>0</td>\n",
              "      <td>...</td>\n",
              "      <td>7</td>\n",
              "      <td>2170</td>\n",
              "      <td>400</td>\n",
              "      <td>1951</td>\n",
              "      <td>1991</td>\n",
              "      <td>98125</td>\n",
              "      <td>47.7210</td>\n",
              "      <td>-122.319</td>\n",
              "      <td>1690</td>\n",
              "      <td>7639</td>\n",
              "    </tr>\n",
              "    <tr>\n",
              "      <th>2</th>\n",
              "      <td>5631500400</td>\n",
              "      <td>20150225T000000</td>\n",
              "      <td>180000</td>\n",
              "      <td>2</td>\n",
              "      <td>1.00</td>\n",
              "      <td>770</td>\n",
              "      <td>10000</td>\n",
              "      <td>1.0</td>\n",
              "      <td>0</td>\n",
              "      <td>0</td>\n",
              "      <td>...</td>\n",
              "      <td>6</td>\n",
              "      <td>770</td>\n",
              "      <td>0</td>\n",
              "      <td>1933</td>\n",
              "      <td>0</td>\n",
              "      <td>98028</td>\n",
              "      <td>47.7379</td>\n",
              "      <td>-122.233</td>\n",
              "      <td>2720</td>\n",
              "      <td>8062</td>\n",
              "    </tr>\n",
              "    <tr>\n",
              "      <th>3</th>\n",
              "      <td>2487200875</td>\n",
              "      <td>20141209T000000</td>\n",
              "      <td>604000</td>\n",
              "      <td>4</td>\n",
              "      <td>3.00</td>\n",
              "      <td>1960</td>\n",
              "      <td>5000</td>\n",
              "      <td>1.0</td>\n",
              "      <td>0</td>\n",
              "      <td>0</td>\n",
              "      <td>...</td>\n",
              "      <td>7</td>\n",
              "      <td>1050</td>\n",
              "      <td>910</td>\n",
              "      <td>1965</td>\n",
              "      <td>0</td>\n",
              "      <td>98136</td>\n",
              "      <td>47.5208</td>\n",
              "      <td>-122.393</td>\n",
              "      <td>1360</td>\n",
              "      <td>5000</td>\n",
              "    </tr>\n",
              "    <tr>\n",
              "      <th>4</th>\n",
              "      <td>1954400510</td>\n",
              "      <td>20150218T000000</td>\n",
              "      <td>510000</td>\n",
              "      <td>3</td>\n",
              "      <td>2.00</td>\n",
              "      <td>1680</td>\n",
              "      <td>8080</td>\n",
              "      <td>1.0</td>\n",
              "      <td>0</td>\n",
              "      <td>0</td>\n",
              "      <td>...</td>\n",
              "      <td>8</td>\n",
              "      <td>1680</td>\n",
              "      <td>0</td>\n",
              "      <td>1987</td>\n",
              "      <td>0</td>\n",
              "      <td>98074</td>\n",
              "      <td>47.6168</td>\n",
              "      <td>-122.045</td>\n",
              "      <td>1800</td>\n",
              "      <td>7503</td>\n",
              "    </tr>\n",
              "  </tbody>\n",
              "</table>\n",
              "<p>5 rows × 21 columns</p>\n",
              "</div>\n",
              "      <button class=\"colab-df-convert\" onclick=\"convertToInteractive('df-a4fc6f46-170d-4540-a781-196e5e8e7945')\"\n",
              "              title=\"Convert this dataframe to an interactive table.\"\n",
              "              style=\"display:none;\">\n",
              "        \n",
              "  <svg xmlns=\"http://www.w3.org/2000/svg\" height=\"24px\"viewBox=\"0 0 24 24\"\n",
              "       width=\"24px\">\n",
              "    <path d=\"M0 0h24v24H0V0z\" fill=\"none\"/>\n",
              "    <path d=\"M18.56 5.44l.94 2.06.94-2.06 2.06-.94-2.06-.94-.94-2.06-.94 2.06-2.06.94zm-11 1L8.5 8.5l.94-2.06 2.06-.94-2.06-.94L8.5 2.5l-.94 2.06-2.06.94zm10 10l.94 2.06.94-2.06 2.06-.94-2.06-.94-.94-2.06-.94 2.06-2.06.94z\"/><path d=\"M17.41 7.96l-1.37-1.37c-.4-.4-.92-.59-1.43-.59-.52 0-1.04.2-1.43.59L10.3 9.45l-7.72 7.72c-.78.78-.78 2.05 0 2.83L4 21.41c.39.39.9.59 1.41.59.51 0 1.02-.2 1.41-.59l7.78-7.78 2.81-2.81c.8-.78.8-2.07 0-2.86zM5.41 20L4 18.59l7.72-7.72 1.47 1.35L5.41 20z\"/>\n",
              "  </svg>\n",
              "      </button>\n",
              "      \n",
              "  <style>\n",
              "    .colab-df-container {\n",
              "      display:flex;\n",
              "      flex-wrap:wrap;\n",
              "      gap: 12px;\n",
              "    }\n",
              "\n",
              "    .colab-df-convert {\n",
              "      background-color: #E8F0FE;\n",
              "      border: none;\n",
              "      border-radius: 50%;\n",
              "      cursor: pointer;\n",
              "      display: none;\n",
              "      fill: #1967D2;\n",
              "      height: 32px;\n",
              "      padding: 0 0 0 0;\n",
              "      width: 32px;\n",
              "    }\n",
              "\n",
              "    .colab-df-convert:hover {\n",
              "      background-color: #E2EBFA;\n",
              "      box-shadow: 0px 1px 2px rgba(60, 64, 67, 0.3), 0px 1px 3px 1px rgba(60, 64, 67, 0.15);\n",
              "      fill: #174EA6;\n",
              "    }\n",
              "\n",
              "    [theme=dark] .colab-df-convert {\n",
              "      background-color: #3B4455;\n",
              "      fill: #D2E3FC;\n",
              "    }\n",
              "\n",
              "    [theme=dark] .colab-df-convert:hover {\n",
              "      background-color: #434B5C;\n",
              "      box-shadow: 0px 1px 3px 1px rgba(0, 0, 0, 0.15);\n",
              "      filter: drop-shadow(0px 1px 2px rgba(0, 0, 0, 0.3));\n",
              "      fill: #FFFFFF;\n",
              "    }\n",
              "  </style>\n",
              "\n",
              "      <script>\n",
              "        const buttonEl =\n",
              "          document.querySelector('#df-a4fc6f46-170d-4540-a781-196e5e8e7945 button.colab-df-convert');\n",
              "        buttonEl.style.display =\n",
              "          google.colab.kernel.accessAllowed ? 'block' : 'none';\n",
              "\n",
              "        async function convertToInteractive(key) {\n",
              "          const element = document.querySelector('#df-a4fc6f46-170d-4540-a781-196e5e8e7945');\n",
              "          const dataTable =\n",
              "            await google.colab.kernel.invokeFunction('convertToInteractive',\n",
              "                                                     [key], {});\n",
              "          if (!dataTable) return;\n",
              "\n",
              "          const docLinkHtml = 'Like what you see? Visit the ' +\n",
              "            '<a target=\"_blank\" href=https://colab.research.google.com/notebooks/data_table.ipynb>data table notebook</a>'\n",
              "            + ' to learn more about interactive tables.';\n",
              "          element.innerHTML = '';\n",
              "          dataTable['output_type'] = 'display_data';\n",
              "          await google.colab.output.renderOutput(dataTable, element);\n",
              "          const docLink = document.createElement('div');\n",
              "          docLink.innerHTML = docLinkHtml;\n",
              "          element.appendChild(docLink);\n",
              "        }\n",
              "      </script>\n",
              "    </div>\n",
              "  </div>\n",
              "  "
            ]
          },
          "metadata": {},
          "execution_count": 195
        }
      ]
    },
    {
      "cell_type": "code",
      "source": [
        "housing_clean.shape"
      ],
      "metadata": {
        "colab": {
          "base_uri": "https://localhost:8080/"
        },
        "id": "lTpXkvmsckNA",
        "outputId": "a9e63c41-a3a5-4481-fb2f-4eaca917e4bf"
      },
      "id": "lTpXkvmsckNA",
      "execution_count": null,
      "outputs": [
        {
          "output_type": "execute_result",
          "data": {
            "text/plain": [
              "(21207, 21)"
            ]
          },
          "metadata": {},
          "execution_count": 196
        }
      ]
    },
    {
      "cell_type": "code",
      "source": [
        "import datetime\n",
        "housing_clean[\"date\"] = pd.to_datetime(housing_clean[\"date\"], format='%Y-%m-%d')"
      ],
      "metadata": {
        "colab": {
          "base_uri": "https://localhost:8080/"
        },
        "id": "eh9m7itEehfU",
        "outputId": "27548e45-13ec-4b67-e744-19408362e939"
      },
      "id": "eh9m7itEehfU",
      "execution_count": null,
      "outputs": [
        {
          "output_type": "stream",
          "name": "stderr",
          "text": [
            "/usr/local/lib/python3.7/dist-packages/ipykernel_launcher.py:2: SettingWithCopyWarning: \n",
            "A value is trying to be set on a copy of a slice from a DataFrame.\n",
            "Try using .loc[row_indexer,col_indexer] = value instead\n",
            "\n",
            "See the caveats in the documentation: https://pandas.pydata.org/pandas-docs/stable/user_guide/indexing.html#returning-a-view-versus-a-copy\n",
            "  \n"
          ]
        }
      ]
    },
    {
      "cell_type": "code",
      "source": [
        "housing_clean.head()"
      ],
      "metadata": {
        "colab": {
          "base_uri": "https://localhost:8080/",
          "height": 386
        },
        "id": "0sJlLjURcpZ4",
        "outputId": "b7ee0a20-500a-4506-c684-c02636ed5cc1"
      },
      "id": "0sJlLjURcpZ4",
      "execution_count": null,
      "outputs": [
        {
          "output_type": "execute_result",
          "data": {
            "text/plain": [
              "           id       date   price  bedrooms  bathrooms  sqft_living  sqft_lot  \\\n",
              "0  7129300520 2014-10-13  221900         3       1.00         1180      5650   \n",
              "1  6414100192 2014-12-09  538000         3       2.25         2570      7242   \n",
              "2  5631500400 2015-02-25  180000         2       1.00          770     10000   \n",
              "3  2487200875 2014-12-09  604000         4       3.00         1960      5000   \n",
              "4  1954400510 2015-02-18  510000         3       2.00         1680      8080   \n",
              "\n",
              "   floors  waterfront  view  ...  grade  sqft_above  sqft_basement  yr_built  \\\n",
              "0     1.0           0     0  ...      7        1180              0      1955   \n",
              "1     2.0           0     0  ...      7        2170            400      1951   \n",
              "2     1.0           0     0  ...      6         770              0      1933   \n",
              "3     1.0           0     0  ...      7        1050            910      1965   \n",
              "4     1.0           0     0  ...      8        1680              0      1987   \n",
              "\n",
              "   yr_renovated  zipcode      lat     long  sqft_living15  sqft_lot15  \n",
              "0             0    98178  47.5112 -122.257           1340        5650  \n",
              "1          1991    98125  47.7210 -122.319           1690        7639  \n",
              "2             0    98028  47.7379 -122.233           2720        8062  \n",
              "3             0    98136  47.5208 -122.393           1360        5000  \n",
              "4             0    98074  47.6168 -122.045           1800        7503  \n",
              "\n",
              "[5 rows x 21 columns]"
            ],
            "text/html": [
              "\n",
              "  <div id=\"df-59aaec07-92f4-4d68-9df5-9a5869e387a1\">\n",
              "    <div class=\"colab-df-container\">\n",
              "      <div>\n",
              "<style scoped>\n",
              "    .dataframe tbody tr th:only-of-type {\n",
              "        vertical-align: middle;\n",
              "    }\n",
              "\n",
              "    .dataframe tbody tr th {\n",
              "        vertical-align: top;\n",
              "    }\n",
              "\n",
              "    .dataframe thead th {\n",
              "        text-align: right;\n",
              "    }\n",
              "</style>\n",
              "<table border=\"1\" class=\"dataframe\">\n",
              "  <thead>\n",
              "    <tr style=\"text-align: right;\">\n",
              "      <th></th>\n",
              "      <th>id</th>\n",
              "      <th>date</th>\n",
              "      <th>price</th>\n",
              "      <th>bedrooms</th>\n",
              "      <th>bathrooms</th>\n",
              "      <th>sqft_living</th>\n",
              "      <th>sqft_lot</th>\n",
              "      <th>floors</th>\n",
              "      <th>waterfront</th>\n",
              "      <th>view</th>\n",
              "      <th>...</th>\n",
              "      <th>grade</th>\n",
              "      <th>sqft_above</th>\n",
              "      <th>sqft_basement</th>\n",
              "      <th>yr_built</th>\n",
              "      <th>yr_renovated</th>\n",
              "      <th>zipcode</th>\n",
              "      <th>lat</th>\n",
              "      <th>long</th>\n",
              "      <th>sqft_living15</th>\n",
              "      <th>sqft_lot15</th>\n",
              "    </tr>\n",
              "  </thead>\n",
              "  <tbody>\n",
              "    <tr>\n",
              "      <th>0</th>\n",
              "      <td>7129300520</td>\n",
              "      <td>2014-10-13</td>\n",
              "      <td>221900</td>\n",
              "      <td>3</td>\n",
              "      <td>1.00</td>\n",
              "      <td>1180</td>\n",
              "      <td>5650</td>\n",
              "      <td>1.0</td>\n",
              "      <td>0</td>\n",
              "      <td>0</td>\n",
              "      <td>...</td>\n",
              "      <td>7</td>\n",
              "      <td>1180</td>\n",
              "      <td>0</td>\n",
              "      <td>1955</td>\n",
              "      <td>0</td>\n",
              "      <td>98178</td>\n",
              "      <td>47.5112</td>\n",
              "      <td>-122.257</td>\n",
              "      <td>1340</td>\n",
              "      <td>5650</td>\n",
              "    </tr>\n",
              "    <tr>\n",
              "      <th>1</th>\n",
              "      <td>6414100192</td>\n",
              "      <td>2014-12-09</td>\n",
              "      <td>538000</td>\n",
              "      <td>3</td>\n",
              "      <td>2.25</td>\n",
              "      <td>2570</td>\n",
              "      <td>7242</td>\n",
              "      <td>2.0</td>\n",
              "      <td>0</td>\n",
              "      <td>0</td>\n",
              "      <td>...</td>\n",
              "      <td>7</td>\n",
              "      <td>2170</td>\n",
              "      <td>400</td>\n",
              "      <td>1951</td>\n",
              "      <td>1991</td>\n",
              "      <td>98125</td>\n",
              "      <td>47.7210</td>\n",
              "      <td>-122.319</td>\n",
              "      <td>1690</td>\n",
              "      <td>7639</td>\n",
              "    </tr>\n",
              "    <tr>\n",
              "      <th>2</th>\n",
              "      <td>5631500400</td>\n",
              "      <td>2015-02-25</td>\n",
              "      <td>180000</td>\n",
              "      <td>2</td>\n",
              "      <td>1.00</td>\n",
              "      <td>770</td>\n",
              "      <td>10000</td>\n",
              "      <td>1.0</td>\n",
              "      <td>0</td>\n",
              "      <td>0</td>\n",
              "      <td>...</td>\n",
              "      <td>6</td>\n",
              "      <td>770</td>\n",
              "      <td>0</td>\n",
              "      <td>1933</td>\n",
              "      <td>0</td>\n",
              "      <td>98028</td>\n",
              "      <td>47.7379</td>\n",
              "      <td>-122.233</td>\n",
              "      <td>2720</td>\n",
              "      <td>8062</td>\n",
              "    </tr>\n",
              "    <tr>\n",
              "      <th>3</th>\n",
              "      <td>2487200875</td>\n",
              "      <td>2014-12-09</td>\n",
              "      <td>604000</td>\n",
              "      <td>4</td>\n",
              "      <td>3.00</td>\n",
              "      <td>1960</td>\n",
              "      <td>5000</td>\n",
              "      <td>1.0</td>\n",
              "      <td>0</td>\n",
              "      <td>0</td>\n",
              "      <td>...</td>\n",
              "      <td>7</td>\n",
              "      <td>1050</td>\n",
              "      <td>910</td>\n",
              "      <td>1965</td>\n",
              "      <td>0</td>\n",
              "      <td>98136</td>\n",
              "      <td>47.5208</td>\n",
              "      <td>-122.393</td>\n",
              "      <td>1360</td>\n",
              "      <td>5000</td>\n",
              "    </tr>\n",
              "    <tr>\n",
              "      <th>4</th>\n",
              "      <td>1954400510</td>\n",
              "      <td>2015-02-18</td>\n",
              "      <td>510000</td>\n",
              "      <td>3</td>\n",
              "      <td>2.00</td>\n",
              "      <td>1680</td>\n",
              "      <td>8080</td>\n",
              "      <td>1.0</td>\n",
              "      <td>0</td>\n",
              "      <td>0</td>\n",
              "      <td>...</td>\n",
              "      <td>8</td>\n",
              "      <td>1680</td>\n",
              "      <td>0</td>\n",
              "      <td>1987</td>\n",
              "      <td>0</td>\n",
              "      <td>98074</td>\n",
              "      <td>47.6168</td>\n",
              "      <td>-122.045</td>\n",
              "      <td>1800</td>\n",
              "      <td>7503</td>\n",
              "    </tr>\n",
              "  </tbody>\n",
              "</table>\n",
              "<p>5 rows × 21 columns</p>\n",
              "</div>\n",
              "      <button class=\"colab-df-convert\" onclick=\"convertToInteractive('df-59aaec07-92f4-4d68-9df5-9a5869e387a1')\"\n",
              "              title=\"Convert this dataframe to an interactive table.\"\n",
              "              style=\"display:none;\">\n",
              "        \n",
              "  <svg xmlns=\"http://www.w3.org/2000/svg\" height=\"24px\"viewBox=\"0 0 24 24\"\n",
              "       width=\"24px\">\n",
              "    <path d=\"M0 0h24v24H0V0z\" fill=\"none\"/>\n",
              "    <path d=\"M18.56 5.44l.94 2.06.94-2.06 2.06-.94-2.06-.94-.94-2.06-.94 2.06-2.06.94zm-11 1L8.5 8.5l.94-2.06 2.06-.94-2.06-.94L8.5 2.5l-.94 2.06-2.06.94zm10 10l.94 2.06.94-2.06 2.06-.94-2.06-.94-.94-2.06-.94 2.06-2.06.94z\"/><path d=\"M17.41 7.96l-1.37-1.37c-.4-.4-.92-.59-1.43-.59-.52 0-1.04.2-1.43.59L10.3 9.45l-7.72 7.72c-.78.78-.78 2.05 0 2.83L4 21.41c.39.39.9.59 1.41.59.51 0 1.02-.2 1.41-.59l7.78-7.78 2.81-2.81c.8-.78.8-2.07 0-2.86zM5.41 20L4 18.59l7.72-7.72 1.47 1.35L5.41 20z\"/>\n",
              "  </svg>\n",
              "      </button>\n",
              "      \n",
              "  <style>\n",
              "    .colab-df-container {\n",
              "      display:flex;\n",
              "      flex-wrap:wrap;\n",
              "      gap: 12px;\n",
              "    }\n",
              "\n",
              "    .colab-df-convert {\n",
              "      background-color: #E8F0FE;\n",
              "      border: none;\n",
              "      border-radius: 50%;\n",
              "      cursor: pointer;\n",
              "      display: none;\n",
              "      fill: #1967D2;\n",
              "      height: 32px;\n",
              "      padding: 0 0 0 0;\n",
              "      width: 32px;\n",
              "    }\n",
              "\n",
              "    .colab-df-convert:hover {\n",
              "      background-color: #E2EBFA;\n",
              "      box-shadow: 0px 1px 2px rgba(60, 64, 67, 0.3), 0px 1px 3px 1px rgba(60, 64, 67, 0.15);\n",
              "      fill: #174EA6;\n",
              "    }\n",
              "\n",
              "    [theme=dark] .colab-df-convert {\n",
              "      background-color: #3B4455;\n",
              "      fill: #D2E3FC;\n",
              "    }\n",
              "\n",
              "    [theme=dark] .colab-df-convert:hover {\n",
              "      background-color: #434B5C;\n",
              "      box-shadow: 0px 1px 3px 1px rgba(0, 0, 0, 0.15);\n",
              "      filter: drop-shadow(0px 1px 2px rgba(0, 0, 0, 0.3));\n",
              "      fill: #FFFFFF;\n",
              "    }\n",
              "  </style>\n",
              "\n",
              "      <script>\n",
              "        const buttonEl =\n",
              "          document.querySelector('#df-59aaec07-92f4-4d68-9df5-9a5869e387a1 button.colab-df-convert');\n",
              "        buttonEl.style.display =\n",
              "          google.colab.kernel.accessAllowed ? 'block' : 'none';\n",
              "\n",
              "        async function convertToInteractive(key) {\n",
              "          const element = document.querySelector('#df-59aaec07-92f4-4d68-9df5-9a5869e387a1');\n",
              "          const dataTable =\n",
              "            await google.colab.kernel.invokeFunction('convertToInteractive',\n",
              "                                                     [key], {});\n",
              "          if (!dataTable) return;\n",
              "\n",
              "          const docLinkHtml = 'Like what you see? Visit the ' +\n",
              "            '<a target=\"_blank\" href=https://colab.research.google.com/notebooks/data_table.ipynb>data table notebook</a>'\n",
              "            + ' to learn more about interactive tables.';\n",
              "          element.innerHTML = '';\n",
              "          dataTable['output_type'] = 'display_data';\n",
              "          await google.colab.output.renderOutput(dataTable, element);\n",
              "          const docLink = document.createElement('div');\n",
              "          docLink.innerHTML = docLinkHtml;\n",
              "          element.appendChild(docLink);\n",
              "        }\n",
              "      </script>\n",
              "    </div>\n",
              "  </div>\n",
              "  "
            ]
          },
          "metadata": {},
          "execution_count": 198
        }
      ]
    },
    {
      "cell_type": "code",
      "source": [
        "housing_x=housing_clean.drop(['price','date'],axis=1)\n",
        "X = housing_x\n",
        "Y = housing_clean['price'].values.reshape(-1,1)"
      ],
      "metadata": {
        "id": "MUqt81hwVtsf"
      },
      "id": "MUqt81hwVtsf",
      "execution_count": null,
      "outputs": []
    },
    {
      "cell_type": "code",
      "source": [
        "Xtrain, Xtest, ytrain, ytest = train_test_split(X,Y, test_size=0.2, random_state=42)\n",
        "linearmodel = LinearRegression()\n",
        "linearmodel.fit(Xtrain, ytrain)"
      ],
      "metadata": {
        "colab": {
          "base_uri": "https://localhost:8080/"
        },
        "id": "ip9wbmLIQT8I",
        "outputId": "80c2ce4d-f19e-4da6-a1da-39b3a0383e4c"
      },
      "id": "ip9wbmLIQT8I",
      "execution_count": null,
      "outputs": [
        {
          "output_type": "execute_result",
          "data": {
            "text/plain": [
              "LinearRegression()"
            ]
          },
          "metadata": {},
          "execution_count": 200
        }
      ]
    },
    {
      "cell_type": "code",
      "source": [
        "ypredict = linearmodel.predict(Xtest)\n",
        "linearmodel.score(Xtest,ytest)"
      ],
      "metadata": {
        "colab": {
          "base_uri": "https://localhost:8080/"
        },
        "id": "GXUNz7WvXW2u",
        "outputId": "369c04bd-7770-46dc-d6cb-7d045abb1337"
      },
      "id": "GXUNz7WvXW2u",
      "execution_count": null,
      "outputs": [
        {
          "output_type": "execute_result",
          "data": {
            "text/plain": [
              "0.6974413549534015"
            ]
          },
          "metadata": {},
          "execution_count": 201
        }
      ]
    },
    {
      "cell_type": "code",
      "source": [
        "from sklearn.metrics import mean_absolute_error, mean_squared_error, r2_score\n",
        "mean_absolute_error(ytest,ypredict)"
      ],
      "metadata": {
        "colab": {
          "base_uri": "https://localhost:8080/"
        },
        "id": "26SfW5aLXf4l",
        "outputId": "3f7f9c6a-0686-4544-d72a-3a0e4f19365d"
      },
      "id": "26SfW5aLXf4l",
      "execution_count": null,
      "outputs": [
        {
          "output_type": "execute_result",
          "data": {
            "text/plain": [
              "101258.23442003124"
            ]
          },
          "metadata": {},
          "execution_count": 202
        }
      ]
    },
    {
      "cell_type": "code",
      "source": [
        "mean_squared_error(ytest,ypredict)"
      ],
      "metadata": {
        "colab": {
          "base_uri": "https://localhost:8080/"
        },
        "id": "3SOOeJeoXnPK",
        "outputId": "2d3d20fe-c41b-4a9c-c14e-db6554a32fa1"
      },
      "id": "3SOOeJeoXnPK",
      "execution_count": null,
      "outputs": [
        {
          "output_type": "execute_result",
          "data": {
            "text/plain": [
              "20158600992.34423"
            ]
          },
          "metadata": {},
          "execution_count": 203
        }
      ]
    },
    {
      "cell_type": "code",
      "source": [
        "np.sqrt(mean_absolute_error(ytest,ypredict))"
      ],
      "metadata": {
        "colab": {
          "base_uri": "https://localhost:8080/"
        },
        "id": "tgqRJDxZXnI3",
        "outputId": "8f06d421-d39c-4887-9d41-7033be148925"
      },
      "id": "tgqRJDxZXnI3",
      "execution_count": null,
      "outputs": [
        {
          "output_type": "execute_result",
          "data": {
            "text/plain": [
              "318.21099041364243"
            ]
          },
          "metadata": {},
          "execution_count": 204
        }
      ]
    },
    {
      "cell_type": "code",
      "source": [
        "r2_score(ytest, ypredict)"
      ],
      "metadata": {
        "colab": {
          "base_uri": "https://localhost:8080/"
        },
        "id": "zfr8Hv-oXtTj",
        "outputId": "705679bc-b35c-423b-9c52-f8a84c87142d"
      },
      "id": "zfr8Hv-oXtTj",
      "execution_count": null,
      "outputs": [
        {
          "output_type": "execute_result",
          "data": {
            "text/plain": [
              "0.6974413549534015"
            ]
          },
          "metadata": {},
          "execution_count": 205
        }
      ]
    },
    {
      "cell_type": "markdown",
      "source": [
        "18. If the metrics show that the p-value for the grade column is 0.092, what all inferences\n",
        "can we make about the grade column?\n",
        "a. Significant in presence of other variables.\n",
        "b. Highly significant in presence of other variables\n",
        "c. insignificance in presence of other variables\n",
        "d. None of the above\n",
        "\n",
        "Ans : c"
      ],
      "metadata": {
        "id": "mrIPG4PpX99h"
      },
      "id": "mrIPG4PpX99h"
    },
    {
      "cell_type": "markdown",
      "source": [
        "19. If the Variance Inflation Factor value for a feature is considerably higher than the\n",
        "other features, what can we say about that column/feature?\n",
        "a. High multicollinearity\n",
        "b. Low multicollinearity\n",
        "c. Both A and B\n",
        "d. None of the above\n",
        "\n",
        "Ans : a"
      ],
      "metadata": {
        "id": "j8Bq5lZHiSyn"
      },
      "id": "j8Bq5lZHiSyn"
    },
    {
      "cell_type": "markdown",
      "source": [],
      "metadata": {
        "id": "IyyskbYBX93h"
      },
      "id": "IyyskbYBX93h"
    }
  ],
  "metadata": {
    "kernelspec": {
      "display_name": "Python 3",
      "language": "python",
      "name": "python3"
    },
    "language_info": {
      "codemirror_mode": {
        "name": "ipython",
        "version": 3
      },
      "file_extension": ".py",
      "mimetype": "text/x-python",
      "name": "python",
      "nbconvert_exporter": "python",
      "pygments_lexer": "ipython3",
      "version": "3.8.8"
    },
    "colab": {
      "provenance": [],
      "include_colab_link": true
    }
  },
  "nbformat": 4,
  "nbformat_minor": 5
}